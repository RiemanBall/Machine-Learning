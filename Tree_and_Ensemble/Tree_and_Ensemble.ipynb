{
  "nbformat": 4,
  "nbformat_minor": 0,
  "metadata": {
    "colab": {
      "name": "Tree_and_Ensemble.ipynb",
      "provenance": [],
      "collapsed_sections": [
        "lAFnaAX_SWZ7",
        "5GecUveEXGpR",
        "ck3CCPLJXneh",
        "quTRlW_WXOsG",
        "FhMQf-IRXU7k",
        "CBAinEp_XdUt",
        "BOvBoKsIX0HZ",
        "W4Wh06uHm5fH",
        "iFysf9Dtm92P",
        "U_wwIJgmtLB_",
        "4gKnnbvH0Vir",
        "CPI_GEbR0eWj",
        "m_nzndm3een3",
        "WXjkBoN3zeO0",
        "HVDm6ArrftDa",
        "jrWZIs04hwXs",
        "0NGrw_wrfneD",
        "9_qklCvAiM1w",
        "GQod2gvxuxsJ",
        "kAsJwdZjvsqw",
        "v6XKRRJxwmr6"
      ],
      "authorship_tag": "ABX9TyPpqAw6LBz7gyiaVxmC2MX/",
      "include_colab_link": true
    },
    "kernelspec": {
      "name": "python3",
      "display_name": "Python 3"
    }
  },
  "cells": [
    {
      "cell_type": "markdown",
      "metadata": {
        "id": "view-in-github",
        "colab_type": "text"
      },
      "source": [
        "<a href=\"https://colab.research.google.com/github/RiemanBall/Machine-Learning/blob/master/Tree_and_Ensemble/Tree_and_Ensemble.ipynb\" target=\"_parent\"><img src=\"https://colab.research.google.com/assets/colab-badge.svg\" alt=\"Open In Colab\"/></a>"
      ]
    },
    {
      "cell_type": "code",
      "metadata": {
        "id": "dUjTH2MgYKnC",
        "colab_type": "code",
        "colab": {}
      },
      "source": [
        "import numpy as np\n",
        "np.random.seed(0)\n",
        "\n",
        "from math import ceil\n",
        "\n",
        "from scipy.stats import randint as sp_randint\n",
        "from scipy.stats import uniform\n",
        "\n",
        "from sklearn.model_selection import KFold\n",
        "from sklearn.tree import DecisionTreeClassifier\n",
        "from sklearn.model_selection import RandomizedSearchCV, GridSearchCV\n",
        "from sklearn.inspection import permutation_importance\n",
        "\n",
        "from sklearn.ensemble import BaggingClassifier, RandomForestClassifier\n",
        "\n",
        "import xgboost as xgb\n",
        "\n",
        "import matplotlib.pyplot as plt\n",
        "\n",
        "\n",
        "\n",
        "%matplotlib inline"
      ],
      "execution_count": null,
      "outputs": []
    },
    {
      "cell_type": "markdown",
      "metadata": {
        "id": "nRfL7565d9WP",
        "colab_type": "text"
      },
      "source": [
        "## Dataset\n",
        "The dataset used here is from https://www.kaggle.com/c/ml2020spring-hw2/data, which is modified from [**Census-Income (KDD) Data Set**](https://archive.ics.uci.edu/ml/datasets/Census-Income+(KDD)) and can be found in [**UCI Machine Learning Repository**](https://archive.ics.uci.edu/ml/index.php)."
      ]
    },
    {
      "cell_type": "code",
      "metadata": {
        "id": "bKP_yvJ2eE-G",
        "colab_type": "code",
        "colab": {
          "base_uri": "https://localhost:8080/",
          "height": 108
        },
        "outputId": "31b94950-f342-4e9c-ab61-8f384f576b7a"
      },
      "source": [
        "# Get the data from colab server\n",
        "!gdown --id '1KSFIRh0-_Vr7SdiSCZP1ItV7bXPxMD92' --output data.tar.gz\n",
        "!tar -zxvf data.tar.gz"
      ],
      "execution_count": null,
      "outputs": [
        {
          "output_type": "stream",
          "text": [
            "/bin/bash: gdown: command not found\n",
            "tar (child): data.tar.gz: Cannot open: No such file or directory\n",
            "tar (child): Error is not recoverable: exiting now\n",
            "tar: Child returned status 2\n",
            "tar: Error is not recoverable: exiting now\n"
          ],
          "name": "stdout"
        }
      ]
    },
    {
      "cell_type": "markdown",
      "metadata": {
        "id": "3_CiI-1-eHum",
        "colab_type": "text"
      },
      "source": [
        "### Preprocessing\n",
        "- Read data:\n",
        "\n",
        "    > Note that `X_train` and `X_test` is already preprocessed with one-hot encoding.\n",
        "\n",
        "- Normalize data\n",
        "- Split to training set and validation set"
      ]
    },
    {
      "cell_type": "code",
      "metadata": {
        "id": "n-2dhKbOeLpw",
        "colab_type": "code",
        "colab": {}
      },
      "source": [
        "# Read data from csv files\n",
        "X_train_fpath = './data/X_train'\n",
        "Y_train_fpath = './data/Y_train'\n",
        "X_test_fpath = './data/X_test'\n",
        "output_fpath = './output_{}.csv'\n",
        "\n",
        "# Parse csv files to numpy array\n",
        "with open(X_train_fpath) as f:\n",
        "    next(f)\n",
        "    X_train = np.array([line.strip('\\n').split(',')[1:] for line in f], dtype = float)\n",
        "with open(Y_train_fpath) as f:\n",
        "    next(f)\n",
        "    Y_train = np.array([line.strip('\\n').split(',')[1] for line in f], dtype = float)\n",
        "with open(X_test_fpath) as f:\n",
        "    next(f)\n",
        "    X_test = np.array([line.strip('\\n').split(',')[1:] for line in f], dtype = float)"
      ],
      "execution_count": null,
      "outputs": []
    },
    {
      "cell_type": "markdown",
      "metadata": {
        "id": "MPJE_6lgeYw_",
        "colab_type": "text"
      },
      "source": [
        "### Some helping functions"
      ]
    },
    {
      "cell_type": "code",
      "metadata": {
        "id": "8pX2rAQkeNoU",
        "colab_type": "code",
        "colab": {}
      },
      "source": [
        "# Helping function\n",
        "def shuffle(X, Y):\n",
        "    '''\n",
        "    Shuffle dataset. X and Y should have same length at 0-dimension.\n",
        "    Inputs:\n",
        "        X: Nxm ndarray. N data, m features\n",
        "        Y: Nx1 ndarray. N data, 1 label\n",
        "    Outputs:\n",
        "        X: Nxm ndarray. Shuffled X. N data, m features\n",
        "        Y: Nx1 ndarray. Shuffled Y. N data, 1 label\n",
        "    '''\n",
        "    if X.shape[0] != Y.shape[0]:\n",
        "        print(\"Shape of X doesn't match with shape of Y\")\n",
        "        return None\n",
        "\n",
        "    if len(Y.shape) < 2:\n",
        "        Y = Y.reshape(-1, 1)\n",
        "\n",
        "    rand_indices = np.arange(X.shape[0])\n",
        "    np.random.shuffle(rand_indices)\n",
        "    return X[rand_indices, :], Y[rand_indices, :]\n",
        "\n",
        "def accuracy(Y_pred_class, Y_truth):\n",
        "    acc = 1 - np.mean(np.abs(Y_pred_class - Y_truth))\n",
        "    return acc\n",
        "\n",
        "def report(results, n_top=5):\n",
        "    for i in range(1, n_top + 1):\n",
        "        candidates = np.flatnonzero(results['rank_test_score'] == i)\n",
        "        for candidate in candidates:\n",
        "            print(\"Model with rank: {0}\".format(i))\n",
        "            print(\"Mean validation score: {0:.3f} (std: {1:.3f})\"\n",
        "                  .format(results['mean_test_score'][candidate],\n",
        "                          results['std_test_score'][candidate]))\n",
        "            print(\"Parameters: {0}\".format(results['params'][candidate]))\n",
        "            print(\"\")\n",
        "\n"
      ],
      "execution_count": null,
      "outputs": []
    },
    {
      "cell_type": "code",
      "metadata": {
        "id": "5wHZ8Xf1iqnr",
        "colab_type": "code",
        "colab": {
          "base_uri": "https://localhost:8080/",
          "height": 35
        },
        "outputId": "b556ccbb-d850-409e-d6c3-60a19bce145d"
      },
      "source": [
        "# Zero-model accuracy\n",
        "print(f\"The accuracy of zero-model: {accuracy(np.zeros_like(Y_train), Y_train)}\")"
      ],
      "execution_count": null,
      "outputs": [
        {
          "output_type": "stream",
          "text": [
            "The accuracy of zero-model: 0.7944743438513713\n"
          ],
          "name": "stdout"
        }
      ]
    },
    {
      "cell_type": "markdown",
      "metadata": {
        "id": "IVtVpaOgeb5B",
        "colab_type": "text"
      },
      "source": [
        "### Split the data\n",
        "Before splitting the data, we shuffle it to have random sequence. Then we split to training set and validation set."
      ]
    },
    {
      "cell_type": "code",
      "metadata": {
        "id": "WaWIw4eXee7h",
        "colab_type": "code",
        "colab": {
          "base_uri": "https://localhost:8080/",
          "height": 90
        },
        "outputId": "334d7fbe-22ea-4001-cfac-b3f21712297a"
      },
      "source": [
        "def split_train_val(X, Y, train_ratio=0.8):\n",
        "    '''\n",
        "    Split dataset (X, Y) to training set and validation set with training ratio = train_ratio\n",
        "    '''\n",
        "    num_data = X.shape[0]\n",
        "    train_sz = ceil(num_data * train_ratio)\n",
        "    return X[:train_sz], Y[:train_sz], X[train_sz:], Y[train_sz:]\n",
        "\n",
        "# Shuffle the data\n",
        "X_train, Y_train = shuffle(X_train, Y_train)\n",
        "# Split to training set and validation set\n",
        "X_train_set, Y_train_set, X_val_set, Y_val_set = split_train_val(X_train, Y_train)\n",
        "\n",
        "train_size = X_train_set.shape[0]\n",
        "val_size = X_val_set.shape[0]\n",
        "test_size = X_test.shape[0]\n",
        "data_dim = X_train_set.shape[1]\n",
        "print('Size of training set: {}'.format(train_size))\n",
        "print('Size of validation set: {}'.format(val_size))\n",
        "print('Size of testing set: {}'.format(test_size))\n",
        "print('Dimension of data: {}'.format(data_dim))"
      ],
      "execution_count": null,
      "outputs": [
        {
          "output_type": "stream",
          "text": [
            "Size of training set: 43405\n",
            "Size of validation set: 10851\n",
            "Size of testing set: 27622\n",
            "Dimension of data: 510\n"
          ],
          "name": "stdout"
        }
      ]
    },
    {
      "cell_type": "code",
      "metadata": {
        "id": "oJAPmkw2wLM0",
        "colab_type": "code",
        "colab": {}
      },
      "source": [
        "# Display feature importance as computed from the decision tree\n",
        "with open(X_test_fpath) as f:\n",
        "    content = f.readline().strip('\\n').split(',')\n",
        "features = np.array(content)[1:]"
      ],
      "execution_count": null,
      "outputs": []
    },
    {
      "cell_type": "markdown",
      "metadata": {
        "id": "lAFnaAX_SWZ7",
        "colab_type": "text"
      },
      "source": [
        "## Decision Tree\n",
        "We will use `DecisionTreeClassifier` from sklearn `tree` module. There are some main hyperparameters for the classifier. Here we only list the parameters that we will modify.\n",
        "\n",
        "- `criterion`: By default the Gini impurity is used. We would like to use information gain, so we specify `entropy`.\n",
        "- `max_depth` : We will use grid search method to find the best depth.\n",
        "- `min_samples_split` : We will use grid search method to find the best depth.\n",
        "- `min_samples_leaf`: We will use grid search method to find the best depth."
      ]
    },
    {
      "cell_type": "markdown",
      "metadata": {
        "id": "5GecUveEXGpR",
        "colab_type": "text"
      },
      "source": [
        "### Simple Decision Tree classifer"
      ]
    },
    {
      "cell_type": "markdown",
      "metadata": {
        "id": "ck3CCPLJXneh",
        "colab_type": "text"
      },
      "source": [
        "#### Train Decision Tree\n"
      ]
    },
    {
      "cell_type": "code",
      "metadata": {
        "id": "eyESv2uBTnuK",
        "colab_type": "code",
        "colab": {}
      },
      "source": [
        "# First see the performance with default setting\n",
        "DTC = DecisionTreeClassifier(random_state=0)\n",
        "\n",
        "# Fit the model\n",
        "DTC = DTC.fit(X_train_set, Y_train_set)"
      ],
      "execution_count": null,
      "outputs": []
    },
    {
      "cell_type": "markdown",
      "metadata": {
        "id": "quTRlW_WXOsG",
        "colab_type": "text"
      },
      "source": [
        "#### Compute the accuracy from validation set"
      ]
    },
    {
      "cell_type": "code",
      "metadata": {
        "id": "EtcDEH3-Vmx-",
        "colab_type": "code",
        "colab": {
          "base_uri": "https://localhost:8080/",
          "height": 84
        },
        "outputId": "4d7326ad-29a8-4404-ec77-4b59ee65042c"
      },
      "source": [
        "# Compute and display accuracy score\n",
        "score = 100.0 * DTC.score(X_val_set, Y_val_set)\n",
        "print(f\"Decision Tree prediction accuracy ={score:5.1f}%\\n\")\n",
        "\n",
        "# Show the trained parameters\n",
        "depth = DTC.get_depth()\n",
        "n_leaves = DTC.get_n_leaves()\n",
        "print(f\"Depth of the tree: {depth}\")\n",
        "print(f\"Number of leaves of the tree: {n_leaves}\")"
      ],
      "execution_count": null,
      "outputs": [
        {
          "output_type": "stream",
          "text": [
            "Decision Tree prediction accuracy = 83.8%\n",
            "\n",
            "Depth of the tree: 62\n",
            "Number of leaves of the tree: 5189\n"
          ],
          "name": "stdout"
        }
      ]
    },
    {
      "cell_type": "markdown",
      "metadata": {
        "id": "FhMQf-IRXU7k",
        "colab_type": "text"
      },
      "source": [
        "#### Show the feature importance from the trained Decision Tree"
      ]
    },
    {
      "cell_type": "code",
      "metadata": {
        "id": "HE4lp8pYValo",
        "colab_type": "code",
        "colab": {
          "base_uri": "https://localhost:8080/",
          "height": 184
        },
        "outputId": "ca8eba9b-9fbc-48af-a891-3255ecbedf2b"
      },
      "source": [
        "vals = DTC.feature_importances_\n",
        "ind = vals.argsort()[::-1]\n",
        "\n",
        "for i in ind[0:10]:\n",
        "    print(f\"{features[i]:<36}\"\n",
        "          f\"{100.0 * vals[i]:5.2f}%\")"
      ],
      "execution_count": null,
      "outputs": [
        {
          "output_type": "stream",
          "text": [
            "capital gains                       12.31%\n",
            "dividends from stocks               11.30%\n",
            "age                                  9.86%\n",
            "weeks worked in year                 9.61%\n",
            "num persons worked for employer      2.73%\n",
            " Male                                2.68%\n",
            " Professional specialty              2.60%\n",
            "capital losses                       2.13%\n",
            " Executive admin and managerial      2.05%\n",
            " Female                              1.67%\n"
          ],
          "name": "stdout"
        }
      ]
    },
    {
      "cell_type": "markdown",
      "metadata": {
        "id": "CBAinEp_XdUt",
        "colab_type": "text"
      },
      "source": [
        "#### Plot the decision surface"
      ]
    },
    {
      "cell_type": "markdown",
      "metadata": {
        "id": "BOvBoKsIX0HZ",
        "colab_type": "text"
      },
      "source": [
        "### Search for good hyperparameters\n",
        "We first execute `RandomizedSearchCV` to quickly spot the good area of hyperparameters, and then use `GridSearchCV` to find the best hyperparameters throughly."
      ]
    },
    {
      "cell_type": "markdown",
      "metadata": {
        "id": "W4Wh06uHm5fH",
        "colab_type": "text"
      },
      "source": [
        "#### Random Search\n",
        "Run a Random Search using 10 fold cross validation"
      ]
    },
    {
      "cell_type": "code",
      "metadata": {
        "id": "o8nNxk95UtHj",
        "colab_type": "code",
        "colab": {}
      },
      "source": [
        "# Random search\n",
        "rand_search_params = {\"criterion\": [\"gini\", \"entropy\"],\n",
        "                      \"max_depth\": sp_randint(10, 50),\n",
        "                      \"min_samples_split\": sp_randint(1, np.sqrt(X_train_set.shape[0])),\n",
        "                      \"min_samples_leaf\": sp_randint(2, np.sqrt(X_train_set.shape[0]) / 2)}\n",
        "candidates = 50\n",
        "DTC = DecisionTreeClassifier(random_state=0)\n"
      ],
      "execution_count": null,
      "outputs": []
    },
    {
      "cell_type": "code",
      "metadata": {
        "id": "0jeoh4komCz5",
        "colab_type": "code",
        "colab": {
          "base_uri": "https://localhost:8080/",
          "height": 502
        },
        "outputId": "beccb77f-6e79-42be-a317-3ecd98ac7584"
      },
      "source": [
        "# Run a random search cross validation.\n",
        "random_search = RandomizedSearchCV(DTC, rand_search_params, candidates, cv=10, n_jobs=-1, verbose=5)\n",
        "\n",
        "random_search.fit(X_train_set, Y_train_set)\n"
      ],
      "execution_count": null,
      "outputs": [
        {
          "output_type": "stream",
          "text": [
            "Fitting 10 folds for each of 50 candidates, totalling 500 fits\n"
          ],
          "name": "stdout"
        },
        {
          "output_type": "stream",
          "text": [
            "[Parallel(n_jobs=-1)]: Using backend LokyBackend with 2 concurrent workers.\n",
            "[Parallel(n_jobs=-1)]: Done  14 tasks      | elapsed:   32.1s\n",
            "[Parallel(n_jobs=-1)]: Done  68 tasks      | elapsed:  2.4min\n",
            "[Parallel(n_jobs=-1)]: Done 158 tasks      | elapsed:  5.1min\n",
            "[Parallel(n_jobs=-1)]: Done 284 tasks      | elapsed:  9.1min\n",
            "[Parallel(n_jobs=-1)]: Done 446 tasks      | elapsed: 13.8min\n",
            "[Parallel(n_jobs=-1)]: Done 500 out of 500 | elapsed: 15.7min finished\n"
          ],
          "name": "stderr"
        },
        {
          "output_type": "execute_result",
          "data": {
            "text/plain": [
              "RandomizedSearchCV(cv=10, error_score=nan,\n",
              "                   estimator=DecisionTreeClassifier(ccp_alpha=0.0,\n",
              "                                                    class_weight=None,\n",
              "                                                    criterion='gini',\n",
              "                                                    max_depth=None,\n",
              "                                                    max_features=None,\n",
              "                                                    max_leaf_nodes=None,\n",
              "                                                    min_impurity_decrease=0.0,\n",
              "                                                    min_impurity_split=None,\n",
              "                                                    min_samples_leaf=1,\n",
              "                                                    min_samples_split=2,\n",
              "                                                    min_weight_fraction_leaf=0.0,\n",
              "                                                    presort='deprecated',\n",
              "                                                    random_state=0,\n",
              "                                                    splitter='best'),\n",
              "                   iid...\n",
              "                                        'max_depth': <scipy.stats._distn_infrastructure.rv_frozen object at 0x7ff818998278>,\n",
              "                                        'min_samples_leaf': <scipy.stats._distn_infrastructure.rv_frozen object at 0x7ff818998550>,\n",
              "                                        'min_samples_split': <scipy.stats._distn_infrastructure.rv_frozen object at 0x7ff8189983c8>},\n",
              "                   pre_dispatch='2*n_jobs', random_state=None, refit=True,\n",
              "                   return_train_score=False, scoring=None, verbose=5)"
            ]
          },
          "metadata": {
            "tags": []
          },
          "execution_count": 11
        }
      ]
    },
    {
      "cell_type": "code",
      "metadata": {
        "id": "O2wmSN1Fq0Ls",
        "colab_type": "code",
        "colab": {
          "base_uri": "https://localhost:8080/",
          "height": 385
        },
        "outputId": "2c8fcb7e-7887-418b-d73f-e05ef3226f94"
      },
      "source": [
        "# Show the random search result\n",
        "report(random_search.cv_results_)\n",
        "\n",
        "score = 100.0 * random_search.score(X_val_set, Y_val_set)\n",
        "print(f\"Best Decision Tree from random search has prediction accuracy{score:5.1f}% in validation set\\n\")"
      ],
      "execution_count": null,
      "outputs": [
        {
          "output_type": "stream",
          "text": [
            "Model with rank: 1\n",
            "Mean validation score: 0.876 (std: 0.004)\n",
            "Parameters: {'criterion': 'gini', 'max_depth': 13, 'min_samples_leaf': 7, 'min_samples_split': 118}\n",
            "\n",
            "Model with rank: 2\n",
            "Mean validation score: 0.876 (std: 0.003)\n",
            "Parameters: {'criterion': 'gini', 'max_depth': 15, 'min_samples_leaf': 10, 'min_samples_split': 163}\n",
            "\n",
            "Model with rank: 3\n",
            "Mean validation score: 0.875 (std: 0.003)\n",
            "Parameters: {'criterion': 'gini', 'max_depth': 15, 'min_samples_leaf': 5, 'min_samples_split': 121}\n",
            "\n",
            "Model with rank: 4\n",
            "Mean validation score: 0.875 (std: 0.004)\n",
            "Parameters: {'criterion': 'gini', 'max_depth': 35, 'min_samples_leaf': 8, 'min_samples_split': 118}\n",
            "\n",
            "Model with rank: 5\n",
            "Mean validation score: 0.875 (std: 0.005)\n",
            "Parameters: {'criterion': 'gini', 'max_depth': 30, 'min_samples_leaf': 10, 'min_samples_split': 132}\n",
            "\n",
            "Best Decision Tree from random search has prediction accuracy 87.0% in validation set\n",
            "\n"
          ],
          "name": "stdout"
        }
      ]
    },
    {
      "cell_type": "markdown",
      "metadata": {
        "id": "iFysf9Dtm92P",
        "colab_type": "text"
      },
      "source": [
        "#### Grid Search\n",
        "Run a Grid Search using 10 fold cross validation based on the random search result."
      ]
    },
    {
      "cell_type": "code",
      "metadata": {
        "id": "CmrXm8Htcl8H",
        "colab_type": "code",
        "colab": {}
      },
      "source": [
        "best_ind = np.argsort(random_search.cv_results_[\"rank_test_score\"])[0]\n",
        "best_params = random_search.cv_results_[\"params\"][best_ind]\n",
        "best_depth = best_params[\"max_depth\"]\n",
        "best_min_samples_split = best_params[\"min_samples_split\"]\n",
        "best_min_samples_leaf = best_params[\"min_samples_leaf\"]"
      ],
      "execution_count": null,
      "outputs": []
    },
    {
      "cell_type": "code",
      "metadata": {
        "id": "j8dOQPNZX-Fu",
        "colab_type": "code",
        "colab": {
          "base_uri": "https://localhost:8080/",
          "height": 468
        },
        "outputId": "99a944c5-b370-457e-e648-353e8e00c438"
      },
      "source": [
        "# Grid search\n",
        "grid_params = {\"criterion\": [\"gini\", \"entropy\"],\n",
        "               \"max_depth\": [best_depth - 1, best_depth, best_depth + 1],\n",
        "               \"min_samples_split\": [best_min_samples_split - 10, best_min_samples_split, best_min_samples_split + 10],\n",
        "               \"min_samples_leaf\": [best_min_samples_leaf - 1, best_min_samples_leaf, best_min_samples_leaf + 1] }\n",
        "\n",
        "# Run a grid search CV.\n",
        "grid_search = GridSearchCV(DTC, grid_params, cv=10, n_jobs=-1, verbose=5)\n",
        "\n",
        "grid_search.fit(X_train_set, Y_train_set)"
      ],
      "execution_count": null,
      "outputs": [
        {
          "output_type": "stream",
          "text": [
            "Fitting 10 folds for each of 54 candidates, totalling 540 fits\n"
          ],
          "name": "stdout"
        },
        {
          "output_type": "stream",
          "text": [
            "[Parallel(n_jobs=-1)]: Using backend LokyBackend with 2 concurrent workers.\n",
            "[Parallel(n_jobs=-1)]: Done  14 tasks      | elapsed:   23.3s\n",
            "[Parallel(n_jobs=-1)]: Done  68 tasks      | elapsed:  1.8min\n",
            "[Parallel(n_jobs=-1)]: Done 158 tasks      | elapsed:  4.3min\n",
            "[Parallel(n_jobs=-1)]: Done 284 tasks      | elapsed:  7.8min\n",
            "[Parallel(n_jobs=-1)]: Done 446 tasks      | elapsed: 11.4min\n",
            "[Parallel(n_jobs=-1)]: Done 540 out of 540 | elapsed: 13.6min finished\n"
          ],
          "name": "stderr"
        },
        {
          "output_type": "execute_result",
          "data": {
            "text/plain": [
              "GridSearchCV(cv=10, error_score=nan,\n",
              "             estimator=DecisionTreeClassifier(ccp_alpha=0.0, class_weight=None,\n",
              "                                              criterion='gini', max_depth=None,\n",
              "                                              max_features=None,\n",
              "                                              max_leaf_nodes=None,\n",
              "                                              min_impurity_decrease=0.0,\n",
              "                                              min_impurity_split=None,\n",
              "                                              min_samples_leaf=1,\n",
              "                                              min_samples_split=2,\n",
              "                                              min_weight_fraction_leaf=0.0,\n",
              "                                              presort='deprecated',\n",
              "                                              random_state=0, splitter='best'),\n",
              "             iid='deprecated', n_jobs=-1,\n",
              "             param_grid={'criterion': ['gini', 'entropy'],\n",
              "                         'max_depth': [12, 13, 14],\n",
              "                         'min_samples_leaf': [6, 7, 8],\n",
              "                         'min_samples_split': [108, 118, 128]},\n",
              "             pre_dispatch='2*n_jobs', refit=True, return_train_score=False,\n",
              "             scoring=None, verbose=5)"
            ]
          },
          "metadata": {
            "tags": []
          },
          "execution_count": 23
        }
      ]
    },
    {
      "cell_type": "code",
      "metadata": {
        "id": "vOXYfUC4strY",
        "colab_type": "code",
        "colab": {
          "base_uri": "https://localhost:8080/",
          "height": 385
        },
        "outputId": "410d424d-d492-4271-8f92-c68762a14f9b"
      },
      "source": [
        "# Show the grid search result\n",
        "report(grid_search.cv_results_)\n",
        "\n",
        "score = 100.0 * grid_search.score(X_val_set, Y_val_set)\n",
        "print(f\"Best Decision Tree from grid search has prediction accuracy ={score:5.1f}%\\n\")"
      ],
      "execution_count": null,
      "outputs": [
        {
          "output_type": "stream",
          "text": [
            "Model with rank: 1\n",
            "Mean validation score: 0.877 (std: 0.004)\n",
            "Parameters: {'criterion': 'gini', 'max_depth': 14, 'min_samples_leaf': 8, 'min_samples_split': 128}\n",
            "\n",
            "Model with rank: 2\n",
            "Mean validation score: 0.876 (std: 0.004)\n",
            "Parameters: {'criterion': 'gini', 'max_depth': 14, 'min_samples_leaf': 8, 'min_samples_split': 118}\n",
            "\n",
            "Model with rank: 3\n",
            "Mean validation score: 0.876 (std: 0.003)\n",
            "Parameters: {'criterion': 'gini', 'max_depth': 14, 'min_samples_leaf': 7, 'min_samples_split': 128}\n",
            "\n",
            "Model with rank: 4\n",
            "Mean validation score: 0.876 (std: 0.004)\n",
            "Parameters: {'criterion': 'gini', 'max_depth': 14, 'min_samples_leaf': 7, 'min_samples_split': 118}\n",
            "\n",
            "Model with rank: 5\n",
            "Mean validation score: 0.876 (std: 0.004)\n",
            "Parameters: {'criterion': 'gini', 'max_depth': 14, 'min_samples_leaf': 7, 'min_samples_split': 108}\n",
            "\n",
            "Best Decision Tree from grid search has prediction accuracy = 87.2%\n",
            "\n"
          ],
          "name": "stdout"
        }
      ]
    },
    {
      "cell_type": "markdown",
      "metadata": {
        "id": "U_wwIJgmtLB_",
        "colab_type": "text"
      },
      "source": [
        "### Train the best Decision Tree classifier with whole training set"
      ]
    },
    {
      "cell_type": "code",
      "metadata": {
        "id": "C8HOdt9AtKLA",
        "colab_type": "code",
        "colab": {
          "base_uri": "https://localhost:8080/",
          "height": 50
        },
        "outputId": "349e3ad0-b127-4bd3-bd4b-37b4e04c6605"
      },
      "source": [
        "best_DTC = grid_search.best_estimator_\n",
        "best_DTC.fit(X_train, Y_train)\n",
        "score = 100.0 * best_DTC.score(X_train, Y_train)\n",
        "print(f\"Best Decision Tree from grid search has prediction accuracy ={score:5.1f}%\\n\")"
      ],
      "execution_count": null,
      "outputs": [
        {
          "output_type": "stream",
          "text": [
            "Best Decision Tree from grid search has prediction accuracy = 88.7%\n",
            "\n"
          ],
          "name": "stdout"
        }
      ]
    },
    {
      "cell_type": "markdown",
      "metadata": {
        "id": "JzltddC_eiJ8",
        "colab_type": "text"
      },
      "source": [
        "We can see the performance is improved after the Decision Tree is fine-tuned."
      ]
    },
    {
      "cell_type": "markdown",
      "metadata": {
        "id": "4gKnnbvH0Vir",
        "colab_type": "text"
      },
      "source": [
        "### Show the feature importance"
      ]
    },
    {
      "cell_type": "code",
      "metadata": {
        "id": "vKgU-IBl0UvY",
        "colab_type": "code",
        "colab": {
          "base_uri": "https://localhost:8080/",
          "height": 184
        },
        "outputId": "7920cfb9-5b39-4c66-c72a-e57a7e579e56"
      },
      "source": [
        "vals = best_DTC.feature_importances_\n",
        "ind = vals.argsort()[::-1]\n",
        "\n",
        "for i in ind[0:10]:\n",
        "    print(f\"{features[i]:<36}\"\n",
        "          f\"{100.0 * vals[i]:5.2f}%\")"
      ],
      "execution_count": null,
      "outputs": [
        {
          "output_type": "stream",
          "text": [
            "capital gains                       23.47%\n",
            "dividends from stocks               17.62%\n",
            "weeks worked in year                17.40%\n",
            "age                                  6.20%\n",
            " Male                                5.07%\n",
            " Professional specialty              4.92%\n",
            " Executive admin and managerial      3.99%\n",
            " Female                              3.38%\n",
            "capital losses                       2.53%\n",
            "num persons worked for employer      1.62%\n"
          ],
          "name": "stdout"
        }
      ]
    },
    {
      "cell_type": "markdown",
      "metadata": {
        "id": "CPI_GEbR0eWj",
        "colab_type": "text"
      },
      "source": [
        "#### Compare with permutation importance"
      ]
    },
    {
      "cell_type": "code",
      "metadata": {
        "id": "BEcPIeq_0ifa",
        "colab_type": "code",
        "colab": {}
      },
      "source": [
        "r = permutation_importance(best_DTC, X_train, Y_train,\n",
        "                           n_repeats=30,\n",
        "                           n_jobs=-1,\n",
        "                           random_state=0)"
      ],
      "execution_count": null,
      "outputs": []
    },
    {
      "cell_type": "code",
      "metadata": {
        "id": "kgoY6ooC0lcQ",
        "colab_type": "code",
        "colab": {
          "base_uri": "https://localhost:8080/",
          "height": 184
        },
        "outputId": "6cb6ea91-f02f-467a-eeb5-f10e26eb7ec4"
      },
      "source": [
        "ind = r.importances_mean.argsort()[::-1]\n",
        "\n",
        "for i in ind[0:10]:\n",
        "    if r.importances_mean[i] - 2 * r.importances_std[i] > 0:\n",
        "        print(f\"{features[i]:<50}\"\n",
        "              f\"{r.importances_mean[i]:.3f}\"\n",
        "              f\" +/- {r.importances_std[i]:.3f}\")"
      ],
      "execution_count": null,
      "outputs": [
        {
          "output_type": "stream",
          "text": [
            "capital gains                                     0.032 +/- 0.001\n",
            "weeks worked in year                              0.031 +/- 0.001\n",
            "dividends from stocks                             0.022 +/- 0.001\n",
            "age                                               0.021 +/- 0.001\n",
            " Professional specialty                           0.015 +/- 0.000\n",
            " Male                                             0.014 +/- 0.000\n",
            " Female                                           0.012 +/- 0.001\n",
            " Executive admin and managerial                   0.012 +/- 0.000\n",
            "capital losses                                    0.007 +/- 0.000\n",
            "num persons worked for employer                   0.006 +/- 0.000\n"
          ],
          "name": "stdout"
        }
      ]
    },
    {
      "cell_type": "markdown",
      "metadata": {
        "id": "m_nzndm3een3",
        "colab_type": "text"
      },
      "source": [
        "### Predict testing data"
      ]
    },
    {
      "cell_type": "code",
      "metadata": {
        "id": "xooA6UDomyQf",
        "colab_type": "code",
        "colab": {
          "base_uri": "https://localhost:8080/",
          "height": 117
        },
        "outputId": "59929c26-26e2-46e4-e9c8-e96200d64edb"
      },
      "source": [
        "best_DTC = DecisionTreeClassifier(criterion = 'gini', max_depth = 14, min_samples_leaf = 8, min_samples_split = 128, random_state=0)\n",
        "best_DTC.fit(X_train, Y_train)"
      ],
      "execution_count": null,
      "outputs": [
        {
          "output_type": "execute_result",
          "data": {
            "text/plain": [
              "DecisionTreeClassifier(ccp_alpha=0.0, class_weight=None, criterion='gini',\n",
              "                       max_depth=14, max_features=None, max_leaf_nodes=None,\n",
              "                       min_impurity_decrease=0.0, min_impurity_split=None,\n",
              "                       min_samples_leaf=8, min_samples_split=128,\n",
              "                       min_weight_fraction_leaf=0.0, presort='deprecated',\n",
              "                       random_state=0, splitter='best')"
            ]
          },
          "metadata": {
            "tags": []
          },
          "execution_count": 42
        }
      ]
    },
    {
      "cell_type": "code",
      "metadata": {
        "id": "_VUhZS_afExX",
        "colab_type": "code",
        "colab": {}
      },
      "source": [
        "predictions = best_DTC.predict(X_test)\n",
        "with open(output_fpath.format('decision_tree'), 'w') as f:\n",
        "    f.write('id,label\\n')\n",
        "    for i, label in enumerate(predictions):\n",
        "        f.write('{},{}\\n'.format(i, int(label)))"
      ],
      "execution_count": null,
      "outputs": []
    },
    {
      "cell_type": "markdown",
      "metadata": {
        "id": "JUqmaruMfUvV",
        "colab_type": "text"
      },
      "source": [
        "The testing result in https://www.kaggle.com/c/ml2020spring-hw2/data shows the accuracy = 0.88675"
      ]
    },
    {
      "cell_type": "markdown",
      "metadata": {
        "id": "WXjkBoN3zeO0",
        "colab_type": "text"
      },
      "source": [
        "## Random Forest\n",
        "We further extend to Random Forest.\n"
      ]
    },
    {
      "cell_type": "markdown",
      "metadata": {
        "id": "HVDm6ArrftDa",
        "colab_type": "text"
      },
      "source": [
        "### Search for good hyperparameters\n",
        "We first execute `RandomizedSearchCV` to quickly spot the good area of hyperparameters, and then use `GridSearchCV` to find the best hyperparameters throughly."
      ]
    },
    {
      "cell_type": "markdown",
      "metadata": {
        "id": "jrWZIs04hwXs",
        "colab_type": "text"
      },
      "source": [
        "#### Random Search\n",
        "Run a Random Search using 5 fold cross validation"
      ]
    },
    {
      "cell_type": "code",
      "metadata": {
        "id": "i-U4VkeHh3b0",
        "colab_type": "code",
        "colab": {}
      },
      "source": [
        "# Random search\n",
        "rand_search_params = {\"max_depth\": sp_randint(50, 100),\n",
        "                      \"max_features\": sp_randint(X_train_set.shape[1] / 2, X_train_set.shape[1]),\n",
        "                      \"min_samples_split\": sp_randint(2, np.sqrt(X_train_set.shape[0]) / 2),\n",
        "                      \"n_estimators\": sp_randint(20, 100)}\n",
        "candidates = 50\n",
        "RF = RandomForestClassifier(criterion = \"gini\", n_jobs = -1, random_state=0)\n"
      ],
      "execution_count": null,
      "outputs": []
    },
    {
      "cell_type": "code",
      "metadata": {
        "id": "Nga0EfqVkfSW",
        "colab_type": "code",
        "colab": {
          "base_uri": "https://localhost:8080/",
          "height": 328
        },
        "outputId": "3f4442ab-5ed4-40bc-967c-2d21f746525b"
      },
      "source": [
        "# Run a random search cross validation.\n",
        "random_search = RandomizedSearchCV(RF, rand_search_params, candidates, cv=5, n_jobs=-1, verbose=5)\n",
        "\n",
        "random_search.fit(X_train_set, Y_train_set.reshape(-1, ))\n"
      ],
      "execution_count": null,
      "outputs": [
        {
          "output_type": "stream",
          "text": [
            "Fitting 5 folds for each of 50 candidates, totalling 250 fits\n"
          ],
          "name": "stdout"
        },
        {
          "output_type": "stream",
          "text": [
            "/home/meng-hao/.virtualenvs/ml_env/lib/python3.6/site-packages/sklearn/utils/validation.py:71: FutureWarning: Pass n_iter=50 as keyword args. From version 0.25 passing these as positional arguments will result in an error\n",
            "  FutureWarning)\n",
            "[Parallel(n_jobs=-1)]: Using backend LokyBackend with 8 concurrent workers.\n",
            "[Parallel(n_jobs=-1)]: Done   2 tasks      | elapsed:  2.4min\n",
            "[Parallel(n_jobs=-1)]: Done  56 tasks      | elapsed: 36.2min\n",
            "[Parallel(n_jobs=-1)]: Done 146 tasks      | elapsed: 77.7min\n",
            "[Parallel(n_jobs=-1)]: Done 250 out of 250 | elapsed: 130.0min finished\n"
          ],
          "name": "stderr"
        },
        {
          "output_type": "execute_result",
          "data": {
            "text/plain": [
              "RandomizedSearchCV(cv=5,\n",
              "                   estimator=RandomForestClassifier(n_jobs=-1, random_state=0),\n",
              "                   n_iter=50, n_jobs=-1,\n",
              "                   param_distributions={'max_depth': <scipy.stats._distn_infrastructure.rv_frozen object at 0x7f89c547cb38>,\n",
              "                                        'max_features': <scipy.stats._distn_infrastructure.rv_frozen object at 0x7f89c54a7518>,\n",
              "                                        'min_samples_split': <scipy.stats._distn_infrastructure.rv_frozen object at 0x7f89c54830b8>,\n",
              "                                        'n_estimators': <scipy.stats._distn_infrastructure.rv_frozen object at 0x7f89c5483b00>},\n",
              "                   verbose=5)"
            ]
          },
          "metadata": {
            "tags": []
          },
          "execution_count": 31
        }
      ]
    },
    {
      "cell_type": "code",
      "metadata": {
        "id": "Wbj4On8XmXAZ",
        "colab_type": "code",
        "colab": {
          "base_uri": "https://localhost:8080/",
          "height": 417
        },
        "outputId": "fc22649b-0a9a-4b9c-a3db-4fea465a9661"
      },
      "source": [
        "# Show the random search result\n",
        "report(random_search.cv_results_)\n",
        "\n",
        "score = 100.0 * random_search.score(X_val_set, Y_val_set.reshape(-1,))\n",
        "print(f\"Best Random Forest from random search has prediction accuracy{score:5.1f}% in validation set\\n\")"
      ],
      "execution_count": null,
      "outputs": [
        {
          "output_type": "stream",
          "text": [
            "Model with rank: 1\n",
            "Mean validation score: 0.889 (std: 0.001)\n",
            "Parameters: {'max_depth': 59, 'max_features': 266, 'min_samples_split': 18, 'n_estimators': 80}\n",
            "\n",
            "Model with rank: 2\n",
            "Mean validation score: 0.888 (std: 0.002)\n",
            "Parameters: {'max_depth': 79, 'max_features': 357, 'min_samples_split': 13, 'n_estimators': 98}\n",
            "\n",
            "Model with rank: 3\n",
            "Mean validation score: 0.888 (std: 0.002)\n",
            "Parameters: {'max_depth': 61, 'max_features': 280, 'min_samples_split': 13, 'n_estimators': 54}\n",
            "\n",
            "Model with rank: 4\n",
            "Mean validation score: 0.887 (std: 0.001)\n",
            "Parameters: {'max_depth': 71, 'max_features': 333, 'min_samples_split': 67, 'n_estimators': 96}\n",
            "\n",
            "Model with rank: 5\n",
            "Mean validation score: 0.887 (std: 0.001)\n",
            "Parameters: {'max_depth': 92, 'max_features': 329, 'min_samples_split': 69, 'n_estimators': 80}\n",
            "\n",
            "Best Random Forest from random search has prediction accuracy 88.6% in validation set\n",
            "\n"
          ],
          "name": "stdout"
        }
      ]
    },
    {
      "cell_type": "markdown",
      "metadata": {
        "id": "0NGrw_wrfneD",
        "colab_type": "text"
      },
      "source": [
        "#### Grid Search\n",
        "Run a Grid Search using 5 fold cross validation"
      ]
    },
    {
      "cell_type": "markdown",
      "metadata": {
        "id": "9_qklCvAiM1w",
        "colab_type": "text"
      },
      "source": [
        "##### Using the parameters found in the random search to do grid search"
      ]
    },
    {
      "cell_type": "code",
      "metadata": {
        "id": "6lLOtjzTiMOD",
        "colab_type": "code",
        "colab": {}
      },
      "source": [
        "best_ind = np.argsort(random_search.cv_results_[\"rank_test_score\"])[0]\n",
        "best_params = random_search.cv_results_[\"params\"][best_ind]\n",
        "best_depth = best_params[\"max_depth\"]\n",
        "best_min_samples_split = best_params[\"min_samples_split\"]\n",
        "best_max_features = best_params[\"max_features\"]\n",
        "best_n_estimators = best_params[\"n_estimators\"]"
      ],
      "execution_count": null,
      "outputs": []
    },
    {
      "cell_type": "code",
      "metadata": {
        "id": "sRonp8nzYEZZ",
        "colab_type": "code",
        "colab": {
          "base_uri": "https://localhost:8080/",
          "height": 383
        },
        "outputId": "02102047-6630-4fe9-ed39-f9dfd4daedf0"
      },
      "source": [
        "# Grid search\n",
        "grid_params = {\"max_depth\": [best_depth - 5, best_depth],\n",
        "               \"min_samples_split\": [best_min_samples_split - 10, best_min_samples_split],\n",
        "               \"n_estimators\": [best_n_estimators - 5, best_n_estimators],\n",
        "               \"max_features\": [best_max_features - 10, best_max_features] }\n",
        "\n",
        "RF = RandomForestClassifier(criterion = \"gini\", n_jobs = -1, random_state=0)\n",
        "\n",
        "# Run a grid search CV.\n",
        "grid_search_RF = GridSearchCV(RF, grid_params, cv=5, n_jobs=-1, verbose=10)\n",
        "\n",
        "grid_search_RF.fit(X_train_set, Y_train_set)"
      ],
      "execution_count": null,
      "outputs": [
        {
          "output_type": "stream",
          "text": [
            "Fitting 5 folds for each of 16 candidates, totalling 80 fits\n"
          ],
          "name": "stdout"
        },
        {
          "output_type": "stream",
          "text": [
            "[Parallel(n_jobs=-1)]: Using backend LokyBackend with 8 concurrent workers.\n",
            "[Parallel(n_jobs=-1)]: Done   2 tasks      | elapsed:  3.9min\n",
            "[Parallel(n_jobs=-1)]: Done   9 tasks      | elapsed:  7.8min\n",
            "[Parallel(n_jobs=-1)]: Done  16 tasks      | elapsed:  8.2min\n",
            "[Parallel(n_jobs=-1)]: Done  25 tasks      | elapsed: 15.6min\n",
            "[Parallel(n_jobs=-1)]: Done  34 tasks      | elapsed: 19.7min\n",
            "[Parallel(n_jobs=-1)]: Done  45 tasks      | elapsed: 23.6min\n",
            "[Parallel(n_jobs=-1)]: Done  56 tasks      | elapsed: 27.9min\n",
            "[Parallel(n_jobs=-1)]: Done  74 out of  80 | elapsed: 39.1min remaining:  3.2min\n",
            "[Parallel(n_jobs=-1)]: Done  80 out of  80 | elapsed: 39.5min finished\n",
            "/home/meng-hao/.virtualenvs/ml_env/lib/python3.6/site-packages/sklearn/model_selection/_search.py:765: DataConversionWarning: A column-vector y was passed when a 1d array was expected. Please change the shape of y to (n_samples,), for example using ravel().\n",
            "  self.best_estimator_.fit(X, y, **fit_params)\n"
          ],
          "name": "stderr"
        },
        {
          "output_type": "execute_result",
          "data": {
            "text/plain": [
              "GridSearchCV(cv=5, estimator=RandomForestClassifier(n_jobs=-1, random_state=0),\n",
              "             n_jobs=-1,\n",
              "             param_grid={'max_depth': [54, 59], 'max_features': [256, 266],\n",
              "                         'min_samples_split': [8, 18],\n",
              "                         'n_estimators': [75, 80]},\n",
              "             verbose=10)"
            ]
          },
          "metadata": {
            "tags": []
          },
          "execution_count": 35
        }
      ]
    },
    {
      "cell_type": "code",
      "metadata": {
        "id": "ek442Jt0hTBm",
        "colab_type": "code",
        "colab": {
          "base_uri": "https://localhost:8080/",
          "height": 417
        },
        "outputId": "5692d856-2aab-4508-b335-5c30b77bbaae"
      },
      "source": [
        "# Show the grid search result\n",
        "report(grid_search_RF.cv_results_)\n",
        "\n",
        "score = 100.0 * grid_search_RF.score(X_val_set, Y_val_set)\n",
        "print(f\"Best Decision Tree from grid search has prediction accuracy ={score:5.1f}%\\n\")"
      ],
      "execution_count": null,
      "outputs": [
        {
          "output_type": "stream",
          "text": [
            "Model with rank: 1\n",
            "Mean validation score: 0.889 (std: 0.002)\n",
            "Parameters: {'max_depth': 59, 'max_features': 256, 'min_samples_split': 18, 'n_estimators': 80}\n",
            "\n",
            "Model with rank: 2\n",
            "Mean validation score: 0.889 (std: 0.003)\n",
            "Parameters: {'max_depth': 54, 'max_features': 256, 'min_samples_split': 18, 'n_estimators': 75}\n",
            "\n",
            "Model with rank: 3\n",
            "Mean validation score: 0.889 (std: 0.001)\n",
            "Parameters: {'max_depth': 54, 'max_features': 266, 'min_samples_split': 18, 'n_estimators': 80}\n",
            "\n",
            "Model with rank: 4\n",
            "Mean validation score: 0.889 (std: 0.002)\n",
            "Parameters: {'max_depth': 54, 'max_features': 256, 'min_samples_split': 18, 'n_estimators': 80}\n",
            "\n",
            "Model with rank: 5\n",
            "Mean validation score: 0.889 (std: 0.002)\n",
            "Parameters: {'max_depth': 59, 'max_features': 256, 'min_samples_split': 18, 'n_estimators': 75}\n",
            "\n",
            "Best Decision Tree from grid search has prediction accuracy = 88.6%\n",
            "\n"
          ],
          "name": "stdout"
        }
      ]
    },
    {
      "cell_type": "markdown",
      "metadata": {
        "id": "GQod2gvxuxsJ",
        "colab_type": "text"
      },
      "source": [
        "### Train the best Random Forest classifier with whole training set"
      ]
    },
    {
      "cell_type": "code",
      "metadata": {
        "id": "SFLiEF3hu5hl",
        "colab_type": "code",
        "colab": {
          "base_uri": "https://localhost:8080/",
          "height": 50
        },
        "outputId": "2af56c4d-7a78-444c-f020-2611aef11b38"
      },
      "source": [
        "best_RF = RandomForestClassifier(criterion = \"gini\", \n",
        "                                 max_depth = 54, \n",
        "                                 max_features = 266, \n",
        "                                 min_samples_split = 18, \n",
        "                                 n_estimators = 80, \n",
        "                                 n_jobs = -1, \n",
        "                                 random_state = 0)\n",
        "best_RF.fit(X_train, Y_train.reshape(-1, ))\n",
        "score = 100.0 * best_RF.score(X_train, Y_train.reshape(-1, ))\n",
        "print(f\"Best Random Forest  trained with whole training set has prediction accuracy ={score:5.1f}%\\n\")"
      ],
      "execution_count": null,
      "outputs": [
        {
          "output_type": "stream",
          "text": [
            "Best Random Forest from grid search has prediction accuracy = 95.3%\n",
            "\n"
          ],
          "name": "stdout"
        }
      ]
    },
    {
      "cell_type": "markdown",
      "metadata": {
        "id": "8WZ9XKB3vie7",
        "colab_type": "text"
      },
      "source": [
        "We can see huge improvement comparing to Decision Tree."
      ]
    },
    {
      "cell_type": "markdown",
      "metadata": {
        "id": "kAsJwdZjvsqw",
        "colab_type": "text"
      },
      "source": [
        "### Show the feature importance"
      ]
    },
    {
      "cell_type": "code",
      "metadata": {
        "id": "6rq4dYT0vyky",
        "colab_type": "code",
        "colab": {
          "base_uri": "https://localhost:8080/",
          "height": 199
        },
        "outputId": "910c4986-b29d-47db-e9ef-8b9e071601d4"
      },
      "source": [
        "vals = best_RF.feature_importances_\n",
        "ind = vals.argsort()[::-1]\n",
        "\n",
        "for i in ind[0:10]:\n",
        "    print(f\"{features[i]:<36}\"\n",
        "          f\"{100.0 * vals[i]:5.2f}%\")"
      ],
      "execution_count": null,
      "outputs": [
        {
          "output_type": "stream",
          "text": [
            "dividends from stocks               13.54%\n",
            "weeks worked in year                11.71%\n",
            "capital gains                       11.45%\n",
            "age                                  6.57%\n",
            " Professional specialty              3.90%\n",
            " Executive admin and managerial      3.49%\n",
            " Male                                3.24%\n",
            " Female                              3.19%\n",
            "capital losses                       2.42%\n",
            "num persons worked for employer      1.92%\n"
          ],
          "name": "stdout"
        }
      ]
    },
    {
      "cell_type": "markdown",
      "metadata": {
        "id": "v6XKRRJxwmr6",
        "colab_type": "text"
      },
      "source": [
        "### Predict testing data"
      ]
    },
    {
      "cell_type": "code",
      "metadata": {
        "id": "zF_tQyAywtmU",
        "colab_type": "code",
        "colab": {}
      },
      "source": [
        "predictions = best_RF.predict(X_test)\n",
        "with open(output_fpath.format('random_forest'), 'w') as f:\n",
        "    f.write('id,label\\n')\n",
        "    for i, label in enumerate(predictions):\n",
        "        f.write('{},{}\\n'.format(i, int(label)))"
      ],
      "execution_count": null,
      "outputs": []
    },
    {
      "cell_type": "markdown",
      "metadata": {
        "id": "x6BeR_EVwwwc",
        "colab_type": "text"
      },
      "source": [
        "The testing result in https://www.kaggle.com/c/ml2020spring-hw2/data shows the accuracy = 0.89790"
      ]
    },
    {
      "cell_type": "markdown",
      "metadata": {
        "id": "FviVrwRU6UeS",
        "colab_type": "text"
      },
      "source": [
        "## Gradient Boosted Decision Tree (GBDT)\n",
        "Build a GBDT with XGBoost."
      ]
    },
    {
      "cell_type": "code",
      "metadata": {
        "id": "aCc0CZDetGhx",
        "colab_type": "code",
        "colab": {}
      },
      "source": [
        "xgb_clf = xgb.XGBClassifier(n_estimators=100, learning_rate=0.1, n_jobs = -1)"
      ],
      "execution_count": null,
      "outputs": []
    },
    {
      "cell_type": "markdown",
      "metadata": {
        "id": "pz4Y59Alrky9",
        "colab_type": "text"
      },
      "source": [
        "### Search for good hyperparameters\n",
        "We first execute `RandomizedSearchCV` to quickly spot the good area of hyperparameters, and then use `GridSearchCV` to find the best hyperparameters throughly."
      ]
    },
    {
      "cell_type": "markdown",
      "metadata": {
        "id": "YudDJR_srnWb",
        "colab_type": "text"
      },
      "source": [
        "#### Random Search\n",
        "Run a Random Search using 5 fold cross validation"
      ]
    },
    {
      "cell_type": "code",
      "metadata": {
        "id": "jCMqIBItreIM",
        "colab_type": "code",
        "colab": {}
      },
      "source": [
        "rand_search_params = {\"max_depth\": sp_randint(4, 10),\n",
        "                      \"subsample\": uniform(0, 1),\n",
        "                      \"colsample_bytree\": uniform(0, 1)}\n",
        "\n",
        "candidates = 50"
      ],
      "execution_count": null,
      "outputs": []
    },
    {
      "cell_type": "code",
      "metadata": {
        "id": "XNBPxXaNvSKr",
        "colab_type": "code",
        "colab": {
          "base_uri": "https://localhost:8080/",
          "height": 546
        },
        "outputId": "846e1146-ccf8-4762-877f-21e265c06c53"
      },
      "source": [
        "random_search_xgb = RandomizedSearchCV(xgb_clf, rand_search_params, candidates, cv = 5, n_jobs = -1, verbose=5)\n",
        "\n",
        "random_search_xgb.fit(X_train_set, Y_train_set.reshape(-1, ))"
      ],
      "execution_count": null,
      "outputs": [
        {
          "output_type": "stream",
          "text": [
            "/home/meng-hao/.virtualenvs/ml_env/lib/python3.6/site-packages/sklearn/utils/validation.py:71: FutureWarning: Pass n_iter=50 as keyword args. From version 0.25 passing these as positional arguments will result in an error\n",
            "  FutureWarning)\n"
          ],
          "name": "stderr"
        },
        {
          "output_type": "stream",
          "text": [
            "Fitting 5 folds for each of 50 candidates, totalling 250 fits\n"
          ],
          "name": "stdout"
        },
        {
          "output_type": "stream",
          "text": [
            "[Parallel(n_jobs=-1)]: Using backend LokyBackend with 8 concurrent workers.\n",
            "[Parallel(n_jobs=-1)]: Done   2 tasks      | elapsed:   38.1s\n",
            "[Parallel(n_jobs=-1)]: Done  56 tasks      | elapsed:  9.1min\n",
            "[Parallel(n_jobs=-1)]: Done 146 tasks      | elapsed: 24.4min\n",
            "[Parallel(n_jobs=-1)]: Done 250 out of 250 | elapsed: 40.1min finished\n"
          ],
          "name": "stderr"
        },
        {
          "output_type": "execute_result",
          "data": {
            "text/plain": [
              "RandomizedSearchCV(cv=5,\n",
              "                   estimator=XGBClassifier(base_score=None, booster=None,\n",
              "                                           colsample_bylevel=None,\n",
              "                                           colsample_bynode=None,\n",
              "                                           colsample_bytree=None, gamma=None,\n",
              "                                           gpu_id=None, importance_type='gain',\n",
              "                                           interaction_constraints=None,\n",
              "                                           learning_rate=0.1,\n",
              "                                           max_delta_step=None, max_depth=None,\n",
              "                                           min_child_weight=None, missing=nan,\n",
              "                                           monotone_constraints=None,\n",
              "                                           n_estimators=100, n...\n",
              "                                           subsample=None, tree_method=None,\n",
              "                                           validate_parameters=None,\n",
              "                                           verbosity=None),\n",
              "                   n_iter=50, n_jobs=-1,\n",
              "                   param_distributions={'colsample_bytree': <scipy.stats._distn_infrastructure.rv_frozen object at 0x7f9e28dd1438>,\n",
              "                                        'max_depth': <scipy.stats._distn_infrastructure.rv_frozen object at 0x7f9e28dfcd30>,\n",
              "                                        'subsample': <scipy.stats._distn_infrastructure.rv_frozen object at 0x7f9e28dfce80>},\n",
              "                   verbose=5)"
            ]
          },
          "metadata": {
            "tags": []
          },
          "execution_count": 10
        }
      ]
    },
    {
      "cell_type": "code",
      "metadata": {
        "id": "lpKTGWpjwD3C",
        "colab_type": "code",
        "colab": {
          "base_uri": "https://localhost:8080/",
          "height": 417
        },
        "outputId": "0239d813-22f8-4518-a331-15ef76a3589b"
      },
      "source": [
        "# Show the random search result\n",
        "report(random_search_xgb.cv_results_)\n",
        "\n",
        "score = 100.0 * random_search_xgb.score(X_val_set, Y_val_set.reshape(-1,))\n",
        "print(f\"Best GBDT from random search has prediction accuracy{score:5.1f}% in validation set\\n\")"
      ],
      "execution_count": null,
      "outputs": [
        {
          "output_type": "stream",
          "text": [
            "Model with rank: 1\n",
            "Mean validation score: 0.895 (std: 0.003)\n",
            "Parameters: {'colsample_bytree': 0.45460082307426564, 'max_depth': 8, 'subsample': 0.7157885779916943}\n",
            "\n",
            "Model with rank: 2\n",
            "Mean validation score: 0.894 (std: 0.002)\n",
            "Parameters: {'colsample_bytree': 0.7162063928708141, 'max_depth': 9, 'subsample': 0.5788796158396107}\n",
            "\n",
            "Model with rank: 3\n",
            "Mean validation score: 0.894 (std: 0.002)\n",
            "Parameters: {'colsample_bytree': 0.6502535610172493, 'max_depth': 8, 'subsample': 0.8290062940712538}\n",
            "\n",
            "Model with rank: 4\n",
            "Mean validation score: 0.894 (std: 0.002)\n",
            "Parameters: {'colsample_bytree': 0.5977346884057299, 'max_depth': 7, 'subsample': 0.7035756863210445}\n",
            "\n",
            "Model with rank: 5\n",
            "Mean validation score: 0.894 (std: 0.002)\n",
            "Parameters: {'colsample_bytree': 0.6546980081519742, 'max_depth': 9, 'subsample': 0.31963642271839987}\n",
            "\n",
            "Best GBDT from random search has prediction accuracy 89.1% in validation set\n",
            "\n"
          ],
          "name": "stdout"
        }
      ]
    },
    {
      "cell_type": "markdown",
      "metadata": {
        "id": "PBu4YmX-rrIh",
        "colab_type": "text"
      },
      "source": [
        "#### Grid Search\n",
        "Run a Grid Search using 5 fold cross validation"
      ]
    },
    {
      "cell_type": "markdown",
      "metadata": {
        "id": "F3yzSgeSwbVR",
        "colab_type": "text"
      },
      "source": [
        "##### Using the parameters found in the random search to do grid search"
      ]
    },
    {
      "cell_type": "code",
      "metadata": {
        "id": "LFEEvVORreBQ",
        "colab_type": "code",
        "colab": {}
      },
      "source": [
        "best_ind = np.argsort(random_search_xgb.cv_results_[\"rank_test_score\"])[0]\n",
        "best_params = random_search_xgb.cv_results_[\"params\"][best_ind]\n",
        "best_depth = best_params[\"max_depth\"]\n",
        "best_subsample = best_params[\"subsample\"]\n",
        "best_colsample_bytree = best_params[\"colsample_bytree\"]"
      ],
      "execution_count": null,
      "outputs": []
    },
    {
      "cell_type": "code",
      "metadata": {
        "id": "biAQflHyxGAE",
        "colab_type": "code",
        "colab": {
          "base_uri": "https://localhost:8080/",
          "height": 599
        },
        "outputId": "82a0937c-8815-40e9-8e71-6cda33ad7304"
      },
      "source": [
        "# Grid search\n",
        "grid_params_xgb = {\"max_depth\": [best_depth - 1, best_depth],\n",
        "                   \"subsample\": [best_subsample - 0.1, best_subsample],\n",
        "                   \"colsample_bytree\": [best_colsample_bytree - 0.1, best_colsample_bytree] }\n",
        "\n",
        "xgb_clf = xgb.XGBClassifier(n_estimators=100, learning_rate=0.1, n_jobs = -1)\n",
        "\n",
        "# Run a grid search CV.\n",
        "grid_search_xgb = GridSearchCV(xgb_clf, grid_params_xgb, cv=5, n_jobs=-1, verbose=10)\n",
        "\n",
        "grid_search_xgb.fit(X_train_set, Y_train_set.reshape(-1,))"
      ],
      "execution_count": null,
      "outputs": [
        {
          "output_type": "stream",
          "text": [
            "Fitting 5 folds for each of 8 candidates, totalling 40 fits\n"
          ],
          "name": "stdout"
        },
        {
          "output_type": "stream",
          "text": [
            "[Parallel(n_jobs=-1)]: Using backend LokyBackend with 8 concurrent workers.\n",
            "[Parallel(n_jobs=-1)]: Done   2 tasks      | elapsed:  1.2min\n",
            "[Parallel(n_jobs=-1)]: Done   9 tasks      | elapsed:  2.3min\n",
            "[Parallel(n_jobs=-1)]: Done  16 tasks      | elapsed:  2.6min\n",
            "[Parallel(n_jobs=-1)]: Done  25 tasks      | elapsed:  5.0min\n",
            "[Parallel(n_jobs=-1)]: Done  30 out of  40 | elapsed:  5.4min remaining:  1.8min\n",
            "[Parallel(n_jobs=-1)]: Done  35 out of  40 | elapsed:  6.7min remaining:   57.8s\n",
            "[Parallel(n_jobs=-1)]: Done  40 out of  40 | elapsed:  7.2min remaining:    0.0s\n",
            "[Parallel(n_jobs=-1)]: Done  40 out of  40 | elapsed:  7.2min finished\n"
          ],
          "name": "stderr"
        },
        {
          "output_type": "execute_result",
          "data": {
            "text/plain": [
              "GridSearchCV(cv=5,\n",
              "             estimator=XGBClassifier(base_score=None, booster=None,\n",
              "                                     colsample_bylevel=None,\n",
              "                                     colsample_bynode=None,\n",
              "                                     colsample_bytree=None, gamma=None,\n",
              "                                     gpu_id=None, importance_type='gain',\n",
              "                                     interaction_constraints=None,\n",
              "                                     learning_rate=0.1, max_delta_step=None,\n",
              "                                     max_depth=None, min_child_weight=None,\n",
              "                                     missing=nan, monotone_constraints=None,\n",
              "                                     n_estimators=100, n_jobs=-1,\n",
              "                                     num_parallel_tree=None, random_state=None,\n",
              "                                     reg_alpha=None, reg_lambda=None,\n",
              "                                     scale_pos_weight=None, subsample=None,\n",
              "                                     tree_method=None, validate_parameters=None,\n",
              "                                     verbosity=None),\n",
              "             n_jobs=-1,\n",
              "             param_grid={'colsample_bytree': [0.35460082307426566,\n",
              "                                              0.45460082307426564],\n",
              "                         'max_depth': [7, 8],\n",
              "                         'subsample': [0.6157885779916943, 0.7157885779916943]},\n",
              "             verbose=10)"
            ]
          },
          "metadata": {
            "tags": []
          },
          "execution_count": 17
        }
      ]
    },
    {
      "cell_type": "code",
      "metadata": {
        "id": "-41Gb4HIxzgD",
        "colab_type": "code",
        "colab": {
          "base_uri": "https://localhost:8080/",
          "height": 417
        },
        "outputId": "31b17767-dae7-4811-dd4e-21292cbda759"
      },
      "source": [
        "# Show the grid search result\n",
        "report(grid_search_xgb.cv_results_)\n",
        "\n",
        "score = 100.0 * grid_search_xgb.score(X_val_set, Y_val_set)\n",
        "print(f\"Best GBDT from grid search has prediction accuracy ={score:5.1f}%\\n\")"
      ],
      "execution_count": null,
      "outputs": [
        {
          "output_type": "stream",
          "text": [
            "Model with rank: 1\n",
            "Mean validation score: 0.895 (std: 0.003)\n",
            "Parameters: {'colsample_bytree': 0.45460082307426564, 'max_depth': 8, 'subsample': 0.7157885779916943}\n",
            "\n",
            "Model with rank: 2\n",
            "Mean validation score: 0.894 (std: 0.003)\n",
            "Parameters: {'colsample_bytree': 0.35460082307426566, 'max_depth': 8, 'subsample': 0.6157885779916943}\n",
            "\n",
            "Model with rank: 3\n",
            "Mean validation score: 0.894 (std: 0.003)\n",
            "Parameters: {'colsample_bytree': 0.35460082307426566, 'max_depth': 8, 'subsample': 0.7157885779916943}\n",
            "\n",
            "Model with rank: 4\n",
            "Mean validation score: 0.894 (std: 0.002)\n",
            "Parameters: {'colsample_bytree': 0.45460082307426564, 'max_depth': 8, 'subsample': 0.6157885779916943}\n",
            "\n",
            "Model with rank: 5\n",
            "Mean validation score: 0.894 (std: 0.002)\n",
            "Parameters: {'colsample_bytree': 0.35460082307426566, 'max_depth': 7, 'subsample': 0.7157885779916943}\n",
            "\n",
            "Best GBDT from grid search has prediction accuracy = 89.1%\n",
            "\n"
          ],
          "name": "stdout"
        }
      ]
    },
    {
      "cell_type": "markdown",
      "metadata": {
        "id": "7g-F3m0vyPip",
        "colab_type": "text"
      },
      "source": [
        "### Train the best Random Forest classifier with whole training set"
      ]
    },
    {
      "cell_type": "code",
      "metadata": {
        "id": "yix3dsMby5d_",
        "colab_type": "code",
        "colab": {}
      },
      "source": [
        "best_ind = np.argsort(grid_search_xgb.cv_results_[\"rank_test_score\"])[0]\n",
        "best_params = grid_search_xgb.cv_results_[\"params\"][best_ind]\n",
        "best_depth = best_params[\"max_depth\"]\n",
        "best_subsample = best_params[\"subsample\"]\n",
        "best_colsample_bytree = best_params[\"colsample_bytree\"]"
      ],
      "execution_count": null,
      "outputs": []
    },
    {
      "cell_type": "code",
      "metadata": {
        "id": "geqMEDGoyTv9",
        "colab_type": "code",
        "colab": {
          "base_uri": "https://localhost:8080/",
          "height": 54
        },
        "outputId": "d3cc1205-d61a-48a2-bb82-da691a69d29a"
      },
      "source": [
        "best_xgb_clf = xgb.XGBClassifier(n_estimators=100,\n",
        "                                 max_depth = best_depth,\n",
        "                                 subsample = best_subsample,\n",
        "                                 colsample_bytree = best_colsample_bytree,\n",
        "                                 learning_rate=0.1, \n",
        "                                 n_jobs = -1)\n",
        "\n",
        "best_xgb_clf.fit(X_train, Y_train.reshape(-1, ))\n",
        "score = 100.0 * best_xgb_clf.score(X_train, Y_train.reshape(-1, ))\n",
        "print(f\"Best GBDT trained with whole training set has prediction accuracy ={score:5.1f}%\\n\")"
      ],
      "execution_count": null,
      "outputs": [
        {
          "output_type": "stream",
          "text": [
            "Best GBDT trained with whole training set has prediction accuracy = 91.0%\n",
            "\n"
          ],
          "name": "stdout"
        }
      ]
    },
    {
      "cell_type": "markdown",
      "metadata": {
        "id": "e_8yzJiB2lz2",
        "colab_type": "text"
      },
      "source": [
        "### Show the feature importance"
      ]
    },
    {
      "cell_type": "code",
      "metadata": {
        "id": "3NjP6qqS2r7e",
        "colab_type": "code",
        "colab": {
          "base_uri": "https://localhost:8080/",
          "height": 199
        },
        "outputId": "ff7cc74e-bf78-4cd6-c4d2-7535df84735f"
      },
      "source": [
        "vals = best_xgb_clf.feature_importances_\n",
        "ind = vals.argsort()[::-1]\n",
        "\n",
        "for i in ind[0:10]:\n",
        "    print(f\"{features[i]:<36}\"\n",
        "          f\"{100.0 * vals[i]:5.2f}%\")"
      ],
      "execution_count": null,
      "outputs": [
        {
          "output_type": "stream",
          "text": [
            " 2                                   2.94%\n",
            " Male                                2.63%\n",
            " Professional specialty              2.59%\n",
            " Child under 18 never married        2.43%\n",
            " Nonfiler                            2.33%\n",
            "weeks worked in year                 2.19%\n",
            "capital gains                        1.97%\n",
            " Not in universe or children         1.72%\n",
            " 0                                   1.58%\n",
            " Executive admin and managerial      1.48%\n"
          ],
          "name": "stdout"
        }
      ]
    },
    {
      "cell_type": "markdown",
      "metadata": {
        "id": "2AUFLEAQ3Izv",
        "colab_type": "text"
      },
      "source": [
        "### Predict testing data"
      ]
    },
    {
      "cell_type": "code",
      "metadata": {
        "id": "IY9MPoV93Kew",
        "colab_type": "code",
        "colab": {}
      },
      "source": [
        "predictions = best_xgb_clf.predict(X_test)\n",
        "with open(output_fpath.format('XGBDT'), 'w') as f:\n",
        "    f.write('id,label\\n')\n",
        "    for i, label in enumerate(predictions):\n",
        "        f.write('{},{}\\n'.format(i, int(label)))"
      ],
      "execution_count": null,
      "outputs": []
    },
    {
      "cell_type": "markdown",
      "metadata": {
        "id": "uuWR1YUl3Rse",
        "colab_type": "text"
      },
      "source": [
        "The testing result in https://www.kaggle.com/c/ml2020spring-hw2/data shows the accuracy = 0.90297"
      ]
    }
  ]
}