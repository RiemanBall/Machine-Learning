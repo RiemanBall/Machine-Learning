{
  "nbformat": 4,
  "nbformat_minor": 0,
  "metadata": {
    "colab": {
      "name": "LogisticRegression.ipynb",
      "provenance": [],
      "collapsed_sections": [],
      "authorship_tag": "ABX9TyN1Nmm2dYUPQZ8ZDcX/KOeu",
      "include_colab_link": true
    },
    "kernelspec": {
      "name": "python3",
      "display_name": "Python 3"
    },
    "accelerator": "GPU"
  },
  "cells": [
    {
      "cell_type": "markdown",
      "metadata": {
        "id": "view-in-github",
        "colab_type": "text"
      },
      "source": [
        "<a href=\"https://colab.research.google.com/github/RiemanBall/Machine-Learning/blob/master/LogisticRegression/LogisticRegression.ipynb\" target=\"_parent\"><img src=\"https://colab.research.google.com/assets/colab-badge.svg\" alt=\"Open In Colab\"/></a>"
      ]
    },
    {
      "cell_type": "markdown",
      "metadata": {
        "id": "xea6tgrM3H3S",
        "colab_type": "text"
      },
      "source": [
        "# Classification with Logistic Regression\n",
        "This notebook build a Logistic Regression from scratch to predict whether the income of an indivisual exceeds 50,000."
      ]
    },
    {
      "cell_type": "code",
      "metadata": {
        "id": "kgfqocz7QYcf",
        "colab_type": "code",
        "colab": {}
      },
      "source": [
        "import numpy as np\n",
        "np.random.seed(0)\n",
        "\n",
        "from math import ceil\n",
        "\n",
        "from sklearn.model_selection import KFold\n",
        "from sklearn import linear_model\n",
        "from sklearn.inspection import permutation_importance\n",
        "\n",
        "import matplotlib.pyplot as plt\n",
        "%matplotlib inline"
      ],
      "execution_count": 1,
      "outputs": []
    },
    {
      "cell_type": "markdown",
      "metadata": {
        "id": "vpLTBiGz8QXZ",
        "colab_type": "text"
      },
      "source": [
        "## Dataset\n",
        "The dataset used here is from https://www.kaggle.com/c/ml2020spring-hw2/data, which is modified from [**Census-Income (KDD) Data Set**](https://archive.ics.uci.edu/ml/datasets/Census-Income+(KDD)) and can be found in [**UCI Machine Learning Repository**](https://archive.ics.uci.edu/ml/index.php)."
      ]
    },
    {
      "cell_type": "code",
      "metadata": {
        "id": "1ahcr5WARCIX",
        "colab_type": "code",
        "colab": {
          "base_uri": "https://localhost:8080/",
          "height": 201
        },
        "outputId": "d1df8181-a211-4433-a7ec-ef7798cc79b2"
      },
      "source": [
        "!gdown --id '1KSFIRh0-_Vr7SdiSCZP1ItV7bXPxMD92' --output data.tar.gz\n",
        "!tar -zxvf data.tar.gz"
      ],
      "execution_count": 2,
      "outputs": [
        {
          "output_type": "stream",
          "text": [
            "Downloading...\n",
            "From: https://drive.google.com/uc?id=1KSFIRh0-_Vr7SdiSCZP1ItV7bXPxMD92\n",
            "To: /content/data.tar.gz\n",
            "6.11MB [00:00, 16.8MB/s]\n",
            "data/\n",
            "data/sample_submission.csv\n",
            "data/test_no_label.csv\n",
            "data/train.csv\n",
            "data/X_test\n",
            "data/X_train\n",
            "data/Y_train\n"
          ],
          "name": "stdout"
        }
      ]
    },
    {
      "cell_type": "markdown",
      "metadata": {
        "id": "Nv5QM-sxIwqv",
        "colab_type": "text"
      },
      "source": [
        "### Preprocessing\n",
        "- Read data:\n",
        "\n",
        "    > Note that `X_train` and `X_test` is already preprocessed with one-hot encoding.\n",
        "\n",
        "- Normalize data\n",
        "- Split to training set and validation set"
      ]
    },
    {
      "cell_type": "code",
      "metadata": {
        "id": "1UOsJhFhIv74",
        "colab_type": "code",
        "colab": {}
      },
      "source": [
        "# Read data from csv files\n",
        "X_train_fpath = './data/X_train'\n",
        "Y_train_fpath = './data/Y_train'\n",
        "X_test_fpath = './data/X_test'\n",
        "output_fpath = './output_{}.csv'\n",
        "\n",
        "# Parse csv files to numpy array\n",
        "with open(X_train_fpath) as f:\n",
        "    next(f)\n",
        "    X_train = np.array([line.strip('\\n').split(',')[1:] for line in f], dtype = float)\n",
        "with open(Y_train_fpath) as f:\n",
        "    next(f)\n",
        "    Y_train = np.array([line.strip('\\n').split(',')[1] for line in f], dtype = float)\n",
        "with open(X_test_fpath) as f:\n",
        "    next(f)\n",
        "    X_test = np.array([line.strip('\\n').split(',')[1:] for line in f], dtype = float)"
      ],
      "execution_count": 3,
      "outputs": []
    },
    {
      "cell_type": "code",
      "metadata": {
        "id": "j1wMmIvdWVkH",
        "colab_type": "code",
        "colab": {}
      },
      "source": [
        "def normalize(X, train=True, columns=None, X_mean=None, X_std=None):\n",
        "    '''\n",
        "    This function serves for normalizing both training set and testing set.\n",
        "    Inputs:\n",
        "        X: Nxm ndarray. N data, m features\n",
        "        train: Boolean. True when X is training data. False when X is testing data\n",
        "        columns: ndarray. Specify the indices of columns to be normalized\n",
        "        X_mean: Nx1 ndarray. N Mean values for each data point, used to normalize testing data\n",
        "        X_std: Nx1 ndarray. N standard deviation for each data point, used to normalize testing data\n",
        "    Outputs:\n",
        "        X: normalized data\n",
        "        X_mean: mean of X if X is training data\n",
        "        X_std: standard deviation of X if X is training data\n",
        "    '''\n",
        "    if columns is None:\n",
        "        columns = np.arange(X.shape[1])\n",
        "\n",
        "    if train:\n",
        "        X_mean = np.mean(X[:, columns], 0).reshape(1, -1)\n",
        "        X_std = np.std(X[:, columns], 0).reshape(1, -1)\n",
        "\n",
        "    X[:, columns] = (X[:, columns] - X_mean) / (X_std + 1e-8)   # In case X_std is zero\n",
        "\n",
        "    return X, X_mean, X_std\n",
        "\n",
        "\n",
        "# Normalize dataset\n",
        "X_train, X_mean, X_std = normalize(X_train, train = True)\n",
        "X_test, _, _= normalize(X_test, train = False, columns = None, X_mean = X_mean, X_std = X_std)"
      ],
      "execution_count": 4,
      "outputs": []
    },
    {
      "cell_type": "markdown",
      "metadata": {
        "id": "CePHoEMCn9eQ",
        "colab_type": "text"
      },
      "source": [
        "### Some helping functions"
      ]
    },
    {
      "cell_type": "code",
      "metadata": {
        "id": "MmTy96KiX_4Z",
        "colab_type": "code",
        "colab": {}
      },
      "source": [
        "# Helping function\n",
        "def sigmoid(z):\n",
        "    # To avoid overflow, minimum/maximum output value is set.\n",
        "    return np.clip(1.0 / (1.0 + np.exp(-z)), 1e-8, 1 - 1e-8)\n",
        "\n",
        "def adam(grads, vs, ms, t):\n",
        "    beta1 = 0.9\n",
        "    beta2 = 0.999\n",
        "    eps_stable = 1e-6\n",
        "    \n",
        "    for grad, v, m in zip(grads, vs, ms):\n",
        "        m[:] = beta1 * m + (1 - beta1) * grad\n",
        "        v[:] = beta2 * v + (1 - beta2) * np.square(grad)\n",
        "\n",
        "        m_bias_corr = m / (1 - beta1 ** t)\n",
        "        v_bias_corr = v / (1 - beta2 ** t)\n",
        "\n",
        "        grad[:] = m_bias_corr / (np.sqrt(v_bias_corr) + eps_stable)\n",
        "\n",
        "    return grads, vs, ms\n",
        "\n",
        "\n",
        "def shuffle(X, Y):\n",
        "    '''\n",
        "    Shuffle dataset. X and Y should have same length at 0-dimension.\n",
        "    Inputs:\n",
        "        X: Nxm ndarray. N data, m features\n",
        "        Y: Nx1 ndarray. N data, 1 label\n",
        "    Outputs:\n",
        "        X: Nxm ndarray. Shuffled X. N data, m features\n",
        "        Y: Nx1 ndarray. Shuffled Y. N data, 1 label\n",
        "    '''\n",
        "    if X.shape[0] != Y.shape[0]:\n",
        "        print(\"Shape of X doesn't match with shape of Y\")\n",
        "        return None\n",
        "\n",
        "    if len(Y.shape) < 2:\n",
        "        Y = Y.reshape(-1, 1)\n",
        "\n",
        "    rand_indices = np.arange(X.shape[0])\n",
        "    np.random.shuffle(rand_indices)\n",
        "    return X[rand_indices, :], Y[rand_indices, :]\n",
        "\n",
        "def accuracy(Y_pred_class, Y_truth):\n",
        "    acc = 1 - np.mean(np.abs(Y_pred_class - Y_truth))\n",
        "    return acc"
      ],
      "execution_count": 5,
      "outputs": []
    },
    {
      "cell_type": "markdown",
      "metadata": {
        "id": "nDhoEUHew323",
        "colab_type": "text"
      },
      "source": [
        "### Split the data\n",
        "Before splitting the data, we shuffle it to have random sequence. Then we split to training set and validation set."
      ]
    },
    {
      "cell_type": "code",
      "metadata": {
        "id": "uys0UoerUdh6",
        "colab_type": "code",
        "colab": {
          "base_uri": "https://localhost:8080/",
          "height": 84
        },
        "outputId": "55866972-4069-47c7-9e3f-ada04b071c0d"
      },
      "source": [
        "def split_train_val(X, Y, train_ratio=0.8):\n",
        "    '''\n",
        "    Split dataset (X, Y) to training set and validation set with training ratio = train_ratio\n",
        "    '''\n",
        "    num_data = X.shape[0]\n",
        "    train_sz = ceil(num_data * train_ratio)\n",
        "    return X[:train_sz], Y[:train_sz], X[train_sz:], Y[train_sz:]\n",
        "\n",
        "# Shuffle the data\n",
        "X_train, Y_train = shuffle(X_train, Y_train)\n",
        "# Split to training set and validation set\n",
        "X_train_set, Y_train_set, X_val_set, Y_val_set = split_train_val(X_train, Y_train)\n",
        "\n",
        "train_size = X_train_set.shape[0]\n",
        "val_size = X_val_set.shape[0]\n",
        "test_size = X_test.shape[0]\n",
        "data_dim = X_train_set.shape[1]\n",
        "print('Size of training set: {}'.format(train_size))\n",
        "print('Size of validation set: {}'.format(val_size))\n",
        "print('Size of testing set: {}'.format(test_size))\n",
        "print('Dimension of data: {}'.format(data_dim))"
      ],
      "execution_count": 6,
      "outputs": [
        {
          "output_type": "stream",
          "text": [
            "Size of training set: 43405\n",
            "Size of validation set: 10851\n",
            "Size of testing set: 27622\n",
            "Dimension of data: 510\n"
          ],
          "name": "stdout"
        }
      ]
    },
    {
      "cell_type": "markdown",
      "metadata": {
        "id": "j6D3kL4VX4M7",
        "colab_type": "text"
      },
      "source": [
        "## Logistic Regression Model\n",
        "The LR model contains:\n",
        "- Cost function: Regularized cross-entropy\n",
        "\n",
        "    For a binary classification, the cost function is:\n",
        "    \n",
        ">> L = cross entropy loss + regularization\n",
        "\n",
        ">> cross entropy loss = $-\\{y^T\\log(h_w(X)) + (1-y)^T\\log(1-h_w(X))\\}$\n",
        "\n",
        ">> regularization = \n",
        "\\begin{cases}\n",
        "    \\lambda ||W||_1  & \\text{Lasso}\\\\\n",
        "    \\frac{\\lambda}{2}\\sum^m_i{w_i^2} & \\text{L2-norm}\\\\\n",
        "\\end{cases} \n",
        "\n",
        ">> where\n",
        "\n",
        "\\begin{equation}\n",
        "X \\in R^{n\\times m}\\\\\n",
        "h_w(X) = \\sigma(XW + b)\\\\\n",
        "\\end{equation}\n",
        "\n",
        ">> with $n$ = batch size, $m$ = number of features\n",
        "\n",
        "- Gradient of cost function w.r.t. weight and bias\n",
        "\\\n",
        "\\\n",
        "\\begin{equation}\n",
        "\\frac{\\partial{L}}{\\partial{W}} = X^T (h_w(X) - y) + \n",
        "    \\begin{cases}\n",
        "        \\lambda sign(W)  & \\text{Lasso}\\\\\n",
        "        \\lambda \\cdot W & \\text{L2-norm}\\\\\n",
        "    \\end{cases}\\\\\n",
        "\\frac{\\partial{L}}{\\partial{b}} = (h_w(X) - y)\n",
        "\\end{equation}\n",
        "\n",
        "- Training function\n",
        "- Prediction function\n",
        "\n",
        "\n"
      ]
    },
    {
      "cell_type": "code",
      "metadata": {
        "id": "TvfI2j1yZejL",
        "colab_type": "code",
        "colab": {}
      },
      "source": [
        "from enum import Enum\n",
        "class Regularization(Enum):\n",
        "    L1 = 1\n",
        "    L2 = 2\n",
        "\n",
        "\n",
        "class LogisticRegression (object):\n",
        "    def __init__(self, lr = 1e-1, max_epoch = 10, reg_rate = 1e-2):\n",
        "        self.W = None\n",
        "        self.b = None\n",
        "        self.regularization = None\n",
        "        self.train_loss = []\n",
        "        self.train_acc = []\n",
        "        self.val_loss = []\n",
        "        self.val_acc = []\n",
        "        self.loss_converge = 1e-4\n",
        "        self.acc_converge = 1e-4\n",
        "        self.patience = 3\n",
        "\n",
        "        self.learning_rate = lr\n",
        "        self.max_epoch = max_epoch\n",
        "        self.reg_rate = reg_rate\n",
        "    \n",
        "    # Cost function\n",
        "    def cross_entropy_loss(self, Y_pred, Y_truth):\n",
        "        cross_entropy = -Y_truth.T @ np.log(Y_pred) - (1 - Y_truth.T) @ np.log(1 - Y_pred)\n",
        "        return cross_entropy.item() + self.regularization_loss()\n",
        "        \n",
        "    def regularization_loss(self):\n",
        "        if self.regularization == Regularization.L1:\n",
        "            return self.reg_rate * np.linalg.norm(self.W, ord = 1)\n",
        "        elif self.regularization == Regularization.L2:\n",
        "            return self.reg_rate / 2.0 * np.sum(np.square(self.W))\n",
        "        else:\n",
        "            return 0\n",
        "\n",
        "    def gradient(self, X, Y_truth):\n",
        "        # Compute the gradient dLdW and dLdb\n",
        "        Y_pred = self.predict(X)\n",
        "        error = Y_pred - Y_truth\n",
        "        dLdW = X.T @ error + self.regularization_gradient()\n",
        "        dLdb = np.sum(error).reshape(1,)\n",
        "\n",
        "        return [dLdW, dLdb]\n",
        "\n",
        "    def regularization_gradient(self):\n",
        "        if self.regularization == Regularization.L1:\n",
        "            return self.reg_rate * np.sign(self.W)\n",
        "        elif self.regularization == Regularization.L2:\n",
        "            return self.reg_rate * self.W\n",
        "        else:\n",
        "            return 0\n",
        "\n",
        "    def train(self, X_train, Y_train, X_val = None, Y_val = None, batch_size = 10, regularization = None, verbose = False):\n",
        "        self.regularization = regularization\n",
        "        num_train, num_features = X_train.shape\n",
        "        \n",
        "        if len(Y_train.shape) < 2:\n",
        "            Y_train = Y_train.reshape(-1, 1)\n",
        "\n",
        "        if X_val is not None:\n",
        "            num_val = X_val.shape[0]\n",
        "            if len(Y_val.shape) < 2:\n",
        "                Y_val = Y_val.reshape(-1, 1)\n",
        "\n",
        "        # Xavier Initialization\n",
        "        bound = 1.0 / np.sqrt(num_train)\n",
        "        self.W = np.random.uniform(low = -bound, high = bound, size = num_features).reshape(-1, 1)\n",
        "        self.b = np.zeros((1,))\n",
        "        vs = [np.zeros_like(self.W), np.zeros_like(self.b)]\n",
        "        ms = [np.zeros_like(self.W), np.zeros_like(self.b)]\n",
        "        step = 0\n",
        "\n",
        "        best_loss = np.Inf\n",
        "        best_acc  = 0\n",
        "        loss_violate = 0\n",
        "        acc_violate  = 0\n",
        "\n",
        "        for epoch in range(self.max_epoch):\n",
        "            # Shuffle the training data\n",
        "            X_train, Y_train = shuffle(X_train, Y_train)\n",
        "\n",
        "            # Mini-batch gradient descent\n",
        "            num_batches = num_train // batch_size\n",
        "            for i_batch in range(num_batches):\n",
        "                start = i_batch * batch_size\n",
        "                end = (i_batch + 1) * batch_size if i_batch != num_batches - 1 else num_train   # Use all the rest if this is the last batch\n",
        "                X = X_train[start : end]\n",
        "                Y = Y_train[start : end]\n",
        "\n",
        "                step += 1\n",
        "\n",
        "                # dLdW, dLdb = self.gradient(X, Y)\n",
        "                grads = self.gradient(X, Y)\n",
        "                [dLdW, dLdb], vs, ms = adam(grads, vs, ms, step)\n",
        "\n",
        "                self.W -= self.learning_rate * dLdW\n",
        "                self.b -= self.learning_rate * dLdb\n",
        "\n",
        "            # Compute and record loss and accuracy\n",
        "            Y_train_pred_prob  = self.predict(X_train)\n",
        "            Y_train_pred_class = np.around(Y_train_pred_prob).astype(np.int)\n",
        "            self.train_loss.append(self.cross_entropy_loss(Y_train_pred_prob, Y_train) / num_train)\n",
        "            self.train_acc.append(accuracy(Y_train_pred_class, Y_train))\n",
        "            \n",
        "            if np.isnan(self.train_loss[-1]):\n",
        "                print(\"Training loss is NAN\")\n",
        "                return\n",
        "\n",
        "            if X_val is not None:\n",
        "                Y_val_pred_prob  = self.predict(X_val)\n",
        "                Y_val_pred_class = np.around(Y_val_pred_prob).astype(np.int)\n",
        "                self.val_loss.append(self.cross_entropy_loss(Y_val_pred_prob, Y_val) / num_val)\n",
        "                self.val_acc.append(accuracy(Y_val_pred_class, Y_val))\n",
        "            \n",
        "                if np.isnan(self.val_loss[-1]):\n",
        "                    print(\"Validation loss is NAN\")\n",
        "                    return\n",
        "\n",
        "            if verbose and (epoch % 10 == 0 or epoch == self.max_epoch - 1):\n",
        "                print(f\"Epoch: {epoch}\")\n",
        "                print(f'Training loss: {self.train_loss[-1]}')\n",
        "                if X_val is not None:\n",
        "                    print(f'Validation loss: {self.val_loss[-1]}')\n",
        "                print(f'Training accuracy: {self.train_acc[-1]}')\n",
        "                if X_val is not None:\n",
        "                    print(f'Validation accuracy: {self.val_acc[-1]}')\n",
        "                print('--------------------------------------------------------------')\n",
        "\n",
        "            # Early exit for loss convergence\n",
        "            if len(self.train_loss) > 1 and best_loss > self.train_loss[-1]:\n",
        "                best_loss = self.train_loss[-1]\n",
        "                loss_violate = 0\n",
        "            elif self.train_loss[-1] - best_loss < self.loss_converge:\n",
        "                loss_violate += 1\n",
        "                if loss_violate > self.patience:\n",
        "                    print(\"Early exit -- Loss converges!\")\n",
        "                    return\n",
        "\n",
        "            # Early exit for accuracy convergence\n",
        "            if len(self.train_acc) > 1 and best_acc < self.train_acc[-1]:\n",
        "                best_acc = self.train_acc[-1]\n",
        "                acc_violate = 0\n",
        "            elif best_acc - self.train_acc[-1] < self.acc_converge:\n",
        "                acc_violate += 1\n",
        "                if acc_violate > self.patience:\n",
        "                    print(\"Early exit -- Accuracy converges!\")\n",
        "                    return\n",
        "\n",
        "    def predict(self, X):\n",
        "        '''\n",
        "        Output of logistic regression function.\n",
        "        Inputs:\n",
        "            X: Nxm ndarray. N data, m features\n",
        "        Outputs:\n",
        "            Probabilities: Nx1 ndarray. Predicted probability of each row of X being positively labeled\n",
        "        '''\n",
        "        return sigmoid(X @ self.W + self.b)\n",
        "\n",
        "    def classify(self, X):\n",
        "        '''\n",
        "        Classify the class by rounding the predicted probability computed from each row of features in X\n",
        "        Inputs:\n",
        "            X: Nxm ndarray. N data, m features\n",
        "        Outputs:\n",
        "            classes: Nx1 ndarray. \n",
        "        '''\n",
        "        return np.around(self.predict(X)).astype(np.int)"
      ],
      "execution_count": 7,
      "outputs": []
    },
    {
      "cell_type": "markdown",
      "metadata": {
        "id": "lYWv0iBF2Mot",
        "colab_type": "text"
      },
      "source": [
        "## Train LR model\n",
        "- Use K-fold cross validation\n",
        "- We will implement grid search to find the best hyperparameters"
      ]
    },
    {
      "cell_type": "markdown",
      "metadata": {
        "id": "IWz7S68WJXQe",
        "colab_type": "text"
      },
      "source": [
        "### K-fold cross validation"
      ]
    },
    {
      "cell_type": "markdown",
      "metadata": {
        "id": "3FT0MFyprFtF",
        "colab_type": "text"
      },
      "source": [
        "#### L1 regularization"
      ]
    },
    {
      "cell_type": "code",
      "metadata": {
        "id": "xuTBanV5q6zN",
        "colab_type": "code",
        "colab": {}
      },
      "source": [
        "kfold = KFold(10, True, 1)\n",
        "lrs = [1e-3, 5e-4, 1e-4]\n",
        "reg_rates = [1e-3, 5e-4, 1e-4, 0]\n",
        "\n",
        "accs_l1 = [[] for _ in range(len(lrs))]\n",
        "\n",
        "for i, lr in enumerate(lrs):\n",
        "    for j, reg_r in enumerate(reg_rates):\n",
        "        print(f\"Learning rate: {lr}, regularization rate: {reg_r}\")\n",
        "\n",
        "        LR = LogisticRegression(lr = lr, max_epoch = 20, reg_rate = reg_r)\n",
        "        \n",
        "        # enumerate splits\n",
        "        for k, (train_ind, test_ind) in enumerate(kfold.split(X_train)):\n",
        "            print(f\"No.{k}-fold\")\n",
        "            X_train_set, Y_train_set = X_train[train_ind], Y_train[train_ind]\n",
        "            X_val_set, Y_val_set = X_train[test_ind], Y_train[test_ind]\n",
        "            LR.train(X_train_set, Y_train_set, X_val_set, Y_val_set, batch_size = 20, regularization = Regularization.L1, verbose = True)\n",
        "\n",
        "        accs_l1[i].append((LR.train_acc[-1], LR.val_acc[-1]))\n"
      ],
      "execution_count": null,
      "outputs": []
    },
    {
      "cell_type": "code",
      "metadata": {
        "id": "gGJEcdNdeKSb",
        "colab_type": "code",
        "colab": {
          "base_uri": "https://localhost:8080/",
          "height": 67
        },
        "outputId": "9b2cb015-726a-4971-883c-2fe9f24a2e9c"
      },
      "source": [
        "# Based on the result of using L1 regularization, we choose lr = 5e-4 and no regularization\n",
        "for row in accs_l1:\n",
        "    for train, val in row:\n",
        "        print(f\"({train:.6f},{val:.6f})\", end=', ')\n",
        "    print(\"\")\n"
      ],
      "execution_count": null,
      "outputs": [
        {
          "output_type": "stream",
          "text": [
            "(0.884049,0.884424), (0.881940,0.882028), (0.883373,0.882028), (0.884745,0.880369), \n",
            "(0.884786,0.883134), (0.884807,0.882949), (0.884889,0.884608), (0.885012,0.885346), \n",
            "(0.883967,0.883502), (0.884233,0.882949), (0.883762,0.884793), (0.883762,0.882949), \n"
          ],
          "name": "stdout"
        }
      ]
    },
    {
      "cell_type": "markdown",
      "metadata": {
        "id": "xm68NagvrJ3f",
        "colab_type": "text"
      },
      "source": [
        "#### L2 regularization"
      ]
    },
    {
      "cell_type": "code",
      "metadata": {
        "id": "2RWbOihv2PgT",
        "colab_type": "code",
        "colab": {}
      },
      "source": [
        "kfold = KFold(10, True, 1)\n",
        "lrs = [1e-2, 5e-3, 1e-3, 5e-4, 1e-4]\n",
        "reg_rates = [1e-2, 5e-3, 1e-3, 5e-4, 1e-4, 0]\n",
        "\n",
        "accs_l2 = [[] for _ in range(len(lrs))]\n",
        "\n",
        "for i, lr in enumerate(lrs):\n",
        "    for j, reg_r in enumerate(reg_rates):\n",
        "        print(f\"Learning rate: {lr}, regularization rate: {reg_r}\")\n",
        "\n",
        "        LR = LogisticRegression(lr = lr, max_epoch = 20, reg_rate = reg_r)\n",
        "        \n",
        "        # enumerate splits\n",
        "        for k, (train_ind, test_ind) in enumerate(kfold.split(X_train)):\n",
        "            print(f\"No.{k}-fold\")\n",
        "            X_train_set, Y_train_set = X_train[train_ind], Y_train[train_ind]\n",
        "            X_val_set, Y_val_set = X_train[test_ind], Y_train[test_ind]\n",
        "            LR.train(X_train_set, Y_train_set, X_val_set, Y_val_set, batch_size = 20, regularization = Regularization.L2, verbose = True)\n",
        "\n",
        "        accs_l2[i].append((LR.train_acc[-1], LR.val_acc[-1]))\n"
      ],
      "execution_count": null,
      "outputs": []
    },
    {
      "cell_type": "code",
      "metadata": {
        "id": "re-On0nprPwb",
        "colab_type": "code",
        "colab": {
          "base_uri": "https://localhost:8080/",
          "height": 100
        },
        "outputId": "9c9a4bee-4a0b-4453-a402-a7011806e6a8"
      },
      "source": [
        "# Based on the result of using L2 regularization, we choose lr = 5e-4 and regularization rate = 1e-3\n",
        "for row in accs_l2:\n",
        "    for train, val in row:\n",
        "        print(f\"({train:.6f},{val:.6f})\", end=', ')\n",
        "    print(\"\")\n"
      ],
      "execution_count": null,
      "outputs": [
        {
          "output_type": "stream",
          "text": [
            "(0.863734,0.860461), (0.863796,0.857696), (0.861830,0.858802), (0.864471,0.861198), (0.864942,0.861751), (0.865372,0.857696), \n",
            "(0.873523,0.867097), (0.874424,0.873364), (0.868035,0.867281), (0.871086,0.869309), (0.873298,0.871336), (0.871946,0.864885), \n",
            "(0.883865,0.883687), (0.883230,0.884608), (0.883271,0.880369), (0.882820,0.880184), (0.883947,0.877972), (0.883435,0.880922), \n",
            "(0.885360,0.884055), (0.885749,0.882949), (0.885360,0.884055), (0.884479,0.883871), (0.883455,0.882396), (0.884418,0.882765), \n",
            "(0.883639,0.883871), (0.883701,0.882028), (0.884172,0.883318), (0.884049,0.882949), (0.884151,0.883502), (0.883906,0.884793), \n"
          ],
          "name": "stdout"
        }
      ]
    },
    {
      "cell_type": "markdown",
      "metadata": {
        "id": "GaeYfr2ojst6",
        "colab_type": "text"
      },
      "source": [
        "### Train the model\n",
        "Based on the grid search result, we pick the hyperparameters as shown in the code cell below:"
      ]
    },
    {
      "cell_type": "code",
      "metadata": {
        "id": "8Dw6Qjj5qfSa",
        "colab_type": "code",
        "colab": {
          "base_uri": "https://localhost:8080/",
          "height": 619
        },
        "outputId": "11924923-f35e-4883-f4ce-717ac42c3f65"
      },
      "source": [
        "X_train_set, Y_train_set, X_val_set, Y_val_set = split_train_val(X_train, Y_train)\n",
        "\n",
        "LR = LogisticRegression(lr = 5e-4, max_epoch = 50, reg_rate = 1e-3)\n",
        "LR.train(X_train_set, Y_train_set, X_val_set, Y_val_set, batch_size = 20, regularization = Regularization.L2, verbose = True)"
      ],
      "execution_count": 8,
      "outputs": [
        {
          "output_type": "stream",
          "text": [
            "Epoch: 0\n",
            "Training loss: 0.3555621849024444\n",
            "Validation loss: 0.35663918718366305\n",
            "Training accuracy: 0.8665821909918212\n",
            "Validation accuracy: 0.8631462538014929\n",
            "--------------------------------------------------------------\n",
            "Epoch: 10\n",
            "Training loss: 0.26849849048457314\n",
            "Validation loss: 0.2768384982783344\n",
            "Training accuracy: 0.8852897131666859\n",
            "Validation accuracy: 0.8811169477467514\n",
            "--------------------------------------------------------------\n",
            "Epoch: 20\n",
            "Training loss: 0.26776829863042895\n",
            "Validation loss: 0.27771883141864934\n",
            "Training accuracy: 0.8847598202972008\n",
            "Validation accuracy: 0.8803796885079717\n",
            "--------------------------------------------------------------\n",
            "Epoch: 30\n",
            "Training loss: 0.2670395643824336\n",
            "Validation loss: 0.2786133313503773\n",
            "Training accuracy: 0.8851284414237991\n",
            "Validation accuracy: 0.8797345866740393\n",
            "--------------------------------------------------------------\n",
            "Epoch: 40\n",
            "Training loss: 0.2661082000289903\n",
            "Validation loss: 0.27824493859460975\n",
            "Training accuracy: 0.8853127519870982\n",
            "Validation accuracy: 0.880840475532209\n",
            "--------------------------------------------------------------\n",
            "Epoch: 49\n",
            "Training loss: 0.26617887193138945\n",
            "Validation loss: 0.2784934578363423\n",
            "Training accuracy: 0.8846215873747264\n",
            "Validation accuracy: 0.8809326329370565\n",
            "--------------------------------------------------------------\n"
          ],
          "name": "stdout"
        }
      ]
    },
    {
      "cell_type": "markdown",
      "metadata": {
        "id": "UXjHD_GFO45n",
        "colab_type": "text"
      },
      "source": [
        "### Plot the training result"
      ]
    },
    {
      "cell_type": "code",
      "metadata": {
        "id": "4O03G7kxO8jv",
        "colab_type": "code",
        "colab": {
          "base_uri": "https://localhost:8080/",
          "height": 545
        },
        "outputId": "fc88ad81-8f55-4f56-838e-122846cf19f0"
      },
      "source": [
        "# Loss curve\n",
        "plt.plot(LR.train_loss)\n",
        "plt.plot(LR.val_loss)\n",
        "plt.title('Loss')\n",
        "plt.legend(['train', 'val'])\n",
        "plt.show()\n",
        "\n",
        "# Accuracy curve\n",
        "plt.plot(LR.train_acc)\n",
        "plt.plot(LR.val_acc)\n",
        "plt.title('Accuracy')\n",
        "plt.legend(['train', 'val'])\n",
        "plt.show()"
      ],
      "execution_count": 9,
      "outputs": [
        {
          "output_type": "display_data",
          "data": {
            "image/png": "[encoded data removed]",
            "text/plain": [
              "<Figure size 432x288 with 1 Axes>"
            ]
          },
          "metadata": {
            "tags": [],
            "needs_background": "light"
          }
        },
        {
          "output_type": "display_data",
          "data": {
            "image/png": "[encoded data removed]",
            "text/plain": [
              "<Figure size 432x288 with 1 Axes>"
            ]
          },
          "metadata": {
            "tags": [],
            "needs_background": "light"
          }
        }
      ]
    },
    {
      "cell_type": "markdown",
      "metadata": {
        "id": "5WdnLys7-BBF",
        "colab_type": "text"
      },
      "source": [
        "#### Train the model with whole training set\n"
      ]
    },
    {
      "cell_type": "code",
      "metadata": {
        "id": "cAWSnNfX-FIp",
        "colab_type": "code",
        "colab": {
          "base_uri": "https://localhost:8080/",
          "height": 418
        },
        "outputId": "314eb5f1-0183-4d20-b8a9-0548bdc99784"
      },
      "source": [
        "LR.train(X_train_set, Y_train_set, batch_size = 20, regularization = Regularization.L2, verbose = True)"
      ],
      "execution_count": 10,
      "outputs": [
        {
          "output_type": "stream",
          "text": [
            "Epoch: 0\n",
            "Training loss: 0.36078748584618625\n",
            "Training accuracy: 0.8666513074530584\n",
            "--------------------------------------------------------------\n",
            "Epoch: 10\n",
            "Training loss: 0.2691723438305561\n",
            "Training accuracy: 0.8850362861421495\n",
            "--------------------------------------------------------------\n",
            "Epoch: 20\n",
            "Training loss: 0.26816673657524226\n",
            "Training accuracy: 0.8849671696809124\n",
            "--------------------------------------------------------------\n",
            "Epoch: 30\n",
            "Training loss: 0.26669481541489864\n",
            "Training accuracy: 0.8847367814767884\n",
            "--------------------------------------------------------------\n",
            "Epoch: 40\n",
            "Training loss: 0.26627135701099547\n",
            "Training accuracy: 0.8851975578850363\n",
            "--------------------------------------------------------------\n",
            "Epoch: 49\n",
            "Training loss: 0.26535623874254477\n",
            "Training accuracy: 0.8852666743462735\n",
            "--------------------------------------------------------------\n"
          ],
          "name": "stdout"
        }
      ]
    },
    {
      "cell_type": "markdown",
      "metadata": {
        "id": "ywAWQ55cEp7M",
        "colab_type": "text"
      },
      "source": [
        "### Look at the most significant 10 features"
      ]
    },
    {
      "cell_type": "code",
      "metadata": {
        "id": "ZUl9op_HE0CW",
        "colab_type": "code",
        "colab": {
          "base_uri": "https://localhost:8080/",
          "height": 184
        },
        "outputId": "b341cdab-4c44-4487-85f7-c04ce625b3f4"
      },
      "source": [
        "# Print out the most significant weights\n",
        "ind = np.argsort(np.abs(LR.W), axis=0)[::-1]\n",
        "with open(X_test_fpath) as f:\n",
        "    content = f.readline().strip('\\n').split(',')\n",
        "features = np.array(content)\n",
        "for i in ind[0:10,0]:\n",
        "    print(f\"{features[i+1].strip():>45} --> {LR.W[i, 0]}\")"
      ],
      "execution_count": 11,
      "outputs": [
        {
          "output_type": "stream",
          "text": [
            "                                capital gains --> 1.092774252463708\n",
            "                         weeks worked in year --> 0.7745030573413763\n",
            "                        dividends from stocks --> 0.6813480045725747\n",
            "                                          age --> 0.5828953173016217\n",
            "                                     Nonfiler --> -0.4633655391923445\n",
            "              num persons worked for employer --> 0.3501750904712272\n",
            "       Masters degree(MA MS MEng MEd MSW MBA) --> 0.283113743567795\n",
            "                Other relative of householder --> -0.2822649772019038\n",
            "                                    Nicaragua --> -0.26363891833390335\n",
            "                                         Male --> 0.26354160472501503\n"
          ],
          "name": "stdout"
        }
      ]
    },
    {
      "cell_type": "markdown",
      "metadata": {
        "id": "ss5beuNtRC8l",
        "colab_type": "text"
      },
      "source": [
        "### Compare with sklearn"
      ]
    },
    {
      "cell_type": "code",
      "metadata": {
        "id": "Y5VXPjkVRGUA",
        "colab_type": "code",
        "colab": {
          "base_uri": "https://localhost:8080/",
          "height": 100
        },
        "outputId": "b8d9d474-ceae-4150-984f-05aaff0aaf58"
      },
      "source": [
        "LR_skl = linear_model.LogisticRegression(max_iter=1000, penalty='l2', C = 1e3, n_jobs=-1)\n",
        "LR_skl.fit(X_train, Y_train.reshape(Y_train.shape[0], ))"
      ],
      "execution_count": null,
      "outputs": [
        {
          "output_type": "execute_result",
          "data": {
            "text/plain": [
              "LogisticRegression(C=1000.0, class_weight=None, dual=False, fit_intercept=True,\n",
              "                   intercept_scaling=1, l1_ratio=None, max_iter=1000,\n",
              "                   multi_class='auto', n_jobs=-1, penalty='l2',\n",
              "                   random_state=None, solver='lbfgs', tol=0.0001, verbose=0,\n",
              "                   warm_start=False)"
            ]
          },
          "metadata": {
            "tags": []
          },
          "execution_count": 7
        }
      ]
    },
    {
      "cell_type": "code",
      "metadata": {
        "id": "Jokcz_TUSTNZ",
        "colab_type": "code",
        "colab": {
          "base_uri": "https://localhost:8080/",
          "height": 33
        },
        "outputId": "e4a94b6d-1c35-40c1-cbdf-11772c2c5ce6"
      },
      "source": [
        "# Avoid large data copy\n",
        "k = 10\n",
        "subsize = ceil(Y_train.shape[0] / k)\n",
        "Y_train_pred_class = np.zeros_like(Y_train)\n",
        "for i in range(k):\n",
        "    Y_train_pred_class[i*subsize : (i+1)*subsize, 0] = LR_skl.predict(X_train[i*subsize : (i+1)*subsize, :])\n",
        "print(f\"Accuracy of sklearn Logistic Regression: {accuracy(Y_train_pred_class, Y_train)}\")"
      ],
      "execution_count": null,
      "outputs": [
        {
          "output_type": "stream",
          "text": [
            "Accuracy of sklearn Logistic Regression: 0.8856531996461221\n"
          ],
          "name": "stdout"
        }
      ]
    },
    {
      "cell_type": "code",
      "metadata": {
        "id": "OpnFB_8wItmB",
        "colab_type": "code",
        "colab": {}
      },
      "source": [
        "r = permutation_importance(LR_skl, X_train, Y_train,\n",
        "                           n_repeats=30,\n",
        "                           n_jobs=-1,\n",
        "                           random_state=0)"
      ],
      "execution_count": null,
      "outputs": []
    },
    {
      "cell_type": "code",
      "metadata": {
        "id": "dD34UD9yL3qa",
        "colab_type": "code",
        "colab": {
          "base_uri": "https://localhost:8080/",
          "height": 184
        },
        "outputId": "7dc22276-8063-4d5c-fe68-e3d67545bfad"
      },
      "source": [
        "with open(X_test_fpath) as f:\n",
        "    content = f.readline().strip('\\n').split(',')\n",
        "features = np.array(content)[1:]\n",
        "\n",
        "ind = r.importances_mean.argsort()[::-1]\n",
        "\n",
        "for i in ind[0:10]:\n",
        "    if r.importances_mean[i] - 2 * r.importances_std[i] > 0:\n",
        "        print(f\"{features[i]:<50}\"\n",
        "              f\"{r.importances_mean[i]:.3f}\"\n",
        "              f\" +/- {r.importances_std[i]:.3f}\")"
      ],
      "execution_count": null,
      "outputs": [
        {
          "output_type": "stream",
          "text": [
            " Spouse of householder                            0.028 +/- 0.001\n",
            " Householder                                      0.024 +/- 0.001\n",
            "weeks worked in year                              0.019 +/- 0.001\n",
            " Spouse of householder                            0.015 +/- 0.001\n",
            "capital gains                                     0.013 +/- 0.000\n",
            " United-States                                    0.011 +/- 0.000\n",
            " Native- Born in the United States                0.010 +/- 0.001\n",
            "age                                               0.010 +/- 0.001\n",
            " Masters degree(MA MS MEng MEd MSW MBA)           0.009 +/- 0.000\n",
            " Both parents present                             0.009 +/- 0.000\n"
          ],
          "name": "stdout"
        }
      ]
    },
    {
      "cell_type": "markdown",
      "metadata": {
        "id": "CvTFs1KGkcwC",
        "colab_type": "text"
      },
      "source": [
        "## Predict testing data\n",
        "Now we predict the labels for the testing data and write it to output_logistic.csv."
      ]
    },
    {
      "cell_type": "code",
      "metadata": {
        "id": "764CYS6okrXh",
        "colab_type": "code",
        "colab": {}
      },
      "source": [
        "# Predict testing labels\n",
        "predictions = LR.classify(X_test)\n",
        "with open(output_fpath.format('logistic'), 'w') as f:\n",
        "    f.write('id,label\\n')\n",
        "    for i, label in  enumerate(predictions):\n",
        "        f.write('{},{}\\n'.format(i, label[0]))"
      ],
      "execution_count": null,
      "outputs": []
    },
    {
      "cell_type": "markdown",
      "metadata": {
        "id": "yIjGv4xbY6tH",
        "colab_type": "text"
      },
      "source": [
        "The testing result in https://www.kaggle.com/c/ml2020spring-hw2/data shows the accuracy = 0.88929"
      ]
    }
  ]
}