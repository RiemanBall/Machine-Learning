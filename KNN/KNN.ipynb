{
  "nbformat": 4,
  "nbformat_minor": 0,
  "metadata": {
    "colab": {
      "name": "KNN.ipynb",
      "provenance": [],
      "collapsed_sections": []
    },
    "kernelspec": {
      "name": "python3",
      "display_name": "Python 3"
    }
  },
  "cells": [
    {
      "cell_type": "code",
      "metadata": {
        "id": "OfLNhvJEL_UY",
        "colab_type": "code",
        "colab": {
          "base_uri": "https://localhost:8080/",
          "height": 217
        },
        "outputId": "71f7da54-bfe1-4bfc-f081-a00311d468bc"
      },
      "source": [
        "!wget -O ./sample_data/iris.csv https://raw.githubusercontent.com/jbrownlee/Datasets/master/iris.csv"
      ],
      "execution_count": null,
      "outputs": [
        {
          "output_type": "stream",
          "text": [
            "--2020-06-26 03:48:19--  https://raw.githubusercontent.com/jbrownlee/Datasets/master/iris.csv\n",
            "Resolving raw.githubusercontent.com (raw.githubusercontent.com)... 151.101.0.133, 151.101.64.133, 151.101.128.133, ...\n",
            "Connecting to raw.githubusercontent.com (raw.githubusercontent.com)|151.101.0.133|:443... connected.\n",
            "HTTP request sent, awaiting response... 200 OK\n",
            "Length: 4549 (4.4K) [text/plain]\n",
            "Saving to: ‘./sample_data/iris.csv’\n",
            "\n",
            "\r./sample_data/iris.   0%[                    ]       0  --.-KB/s               \r./sample_data/iris. 100%[===================>]   4.44K  --.-KB/s    in 0s      \n",
            "\n",
            "2020-06-26 03:48:19 (46.1 MB/s) - ‘./sample_data/iris.csv’ saved [4549/4549]\n",
            "\n"
          ],
          "name": "stdout"
        }
      ]
    },
    {
      "cell_type": "code",
      "metadata": {
        "id": "H-XwssL-NFVY",
        "colab_type": "code",
        "colab": {}
      },
      "source": [
        "from collections import defaultdict\n",
        "import heapq\n",
        "from copy import deepcopy\n",
        "import numpy as np\n",
        "from math import sqrt, ceil\n",
        "from csv import reader\n",
        "from random import seed, randrange\n",
        "from typing import List, Dict, Set, Tuple\n",
        "\n",
        "import matplotlib.pyplot as plt\n",
        "from mpl_toolkits.mplot3d import Axes3D\n",
        "%matplotlib inline\n",
        "\n",
        "seed(10)"
      ],
      "execution_count": null,
      "outputs": []
    },
    {
      "cell_type": "markdown",
      "metadata": {
        "id": "ayzoOBOLNUPZ",
        "colab_type": "text"
      },
      "source": [
        "## Data Preprocessing:\n",
        "- Defining dataset class\n",
        "- Reading data\n",
        "- Normalizing data (Optional if the dataset is already in the same scale)"
      ]
    },
    {
      "cell_type": "code",
      "metadata": {
        "id": "tx1ixlTENrPW",
        "colab_type": "code",
        "colab": {}
      },
      "source": [
        "class Dataset (object):\n",
        "  def __init__(self):\n",
        "    self.dataset = None\n",
        "    self.num_data = None\n",
        "    self.num_features = None\n",
        "    self.has_class = False\n",
        "    self.class2num = None\n",
        "\n",
        "\n",
        "  def load_csv(self, fileName: str, classification = False):\n",
        "    self.dataset = list()\n",
        "    self.has_class = classification\n",
        "\n",
        "    with open(fileName, 'r') as file:\n",
        "      csv_reader = reader(file)\n",
        "      for row in csv_reader:\n",
        "        if not row: # If it's not empty row\n",
        "          continue\n",
        "        self.dataset.append(row)\n",
        "\n",
        "    self.num_data = len(self.dataset)\n",
        "\n",
        "    if self.num_data > 0:\n",
        "      row = self.dataset[0]\n",
        "      self.num_features = len(row) - 1 if self.has_class else len(row)\n",
        "\n",
        "    for i in range(self.num_features):\n",
        "      self._str_col_to_float(i)\n",
        "\n",
        "    if self.has_class:\n",
        "      self._str_col_to_int(self.num_features)\n",
        "\n",
        "\n",
        "  def _str_col_to_float(self, column: int):\n",
        "    for row in self.dataset:\n",
        "      row[column] = float(row[column].strip()) # In case there are some spaces\n",
        "\n",
        "\n",
        "  def _str_col_to_int(self, column: int):\n",
        "    classes = [row[column] for row in self.dataset]\n",
        "    unique = set(classes)\n",
        "    self.class2num = defaultdict(list)\n",
        "    \n",
        "    for i, c in enumerate(unique):\n",
        "      self.class2num[c] = i\n",
        "\n",
        "    for row in self.dataset:\n",
        "      row[column] = self.class2num[row[column]]\n",
        "\n",
        "\n",
        "  def _get_dataset_minmax(self):\n",
        "    minmax_cols = []\n",
        "\n",
        "    for i in range(self.num_features):\n",
        "      cols = [row[i] for row in self.dataset]\n",
        "      minmax_cols.append([min(cols), max(cols)])\n",
        "    \n",
        "    return minmax_cols\n",
        "\n",
        "  def normalize_dataset(self, minmax_cols):\n",
        "    minmax_cols = self._get_dataset_minmax()\n",
        "    for row in self.dataset:\n",
        "      for i in range(self.num_features):\n",
        "        row[i] = (row[i] - minmax_cols[i][0]) / (minmax_cols[i][1] - minmax_cols[i][0])\n",
        "\n",
        "\n",
        "  def split_dataset(self, ratio: float)-> Tuple:\n",
        "    copy_dataset = deepcopy(self.dataset)\n",
        "    num_train = ceil(len(copy_dataset) * ratio)\n",
        "    np.random.shuffle(copy_dataset)\n",
        "    return copy_dataset[:num_train], copy_dataset[num_train:]"
      ],
      "execution_count": null,
      "outputs": []
    },
    {
      "cell_type": "code",
      "metadata": {
        "id": "9MVXTyEjQ3Hn",
        "colab_type": "code",
        "colab": {}
      },
      "source": [
        "class Flower (object):\n",
        "  def __init__ (self):\n",
        "    self.num_features = 4\n",
        "    self.sepal_length = None\n",
        "    self.sepal_width = None\n",
        "    self.petal_lenght = None\n",
        "    self.petal_width = None\n",
        "    self.species = None\n"
      ],
      "execution_count": null,
      "outputs": []
    },
    {
      "cell_type": "code",
      "metadata": {
        "id": "m49SJSLPrskm",
        "colab_type": "code",
        "colab": {}
      },
      "source": [
        "ds = Dataset()\n",
        "ds.load_csv('./sample_data/iris.csv', classification=True)\n"
      ],
      "execution_count": null,
      "outputs": []
    },
    {
      "cell_type": "code",
      "metadata": {
        "id": "O5oiMG390xCN",
        "colab_type": "code",
        "colab": {
          "base_uri": "https://localhost:8080/",
          "height": 54
        },
        "outputId": "d763ccbd-15ef-4832-9e10-0f0b428d6beb"
      },
      "source": [
        "# Split data to train and test\n",
        "train, test = ds.split_dataset(0.8)\n",
        "print(f\"Training data size: {len(train)}\")\n",
        "print(f\"Testing data size: {len(test)}\")"
      ],
      "execution_count": null,
      "outputs": [
        {
          "output_type": "stream",
          "text": [
            "Training data size: 120\n",
            "Testing data size: 30\n"
          ],
          "name": "stdout"
        }
      ]
    },
    {
      "cell_type": "markdown",
      "metadata": {
        "id": "c1b9hOEDNa83",
        "colab_type": "text"
      },
      "source": [
        "## KNN"
      ]
    },
    {
      "cell_type": "markdown",
      "metadata": {
        "id": "Ye3TC2kpM_j9",
        "colab_type": "text"
      },
      "source": [
        "### Step 1: Calculate Euclidean Distance"
      ]
    },
    {
      "cell_type": "code",
      "metadata": {
        "id": "smZPE1m9NC4O",
        "colab_type": "code",
        "colab": {}
      },
      "source": [
        "def euclidean_dist(f1 : List, f2 : List) -> float:\n",
        "  dist = 0.0\n",
        "  for i in range(len(f1) - 1):\n",
        "    dist += (f1[i] - f2[i]) ** 2\n",
        "\n",
        "  return sqrt(dist)"
      ],
      "execution_count": null,
      "outputs": []
    },
    {
      "cell_type": "markdown",
      "metadata": {
        "id": "-pdIZpnBatJO",
        "colab_type": "text"
      },
      "source": [
        "### Step 2: Get Nearest Neighbors"
      ]
    },
    {
      "cell_type": "code",
      "metadata": {
        "id": "E8tDn2O4awUR",
        "colab_type": "code",
        "colab": {}
      },
      "source": [
        "def get_k_neighbors (k:int, train: List[List], target_data: List):\n",
        "  pq = []\n",
        "  for data in train:\n",
        "    dist = euclidean_dist(data, target_data)\n",
        "    c = data[-1]\n",
        "    if (len(pq) == k):\n",
        "      heapq.heappushpop(pq, (-dist, c))  # The heapq in python by default is min-heap, so we negate the distance\n",
        "    else:\n",
        "      heapq.heappush(pq, (-dist, c))\n",
        "\n",
        "  return list(pq)"
      ],
      "execution_count": null,
      "outputs": []
    },
    {
      "cell_type": "markdown",
      "metadata": {
        "id": "TQvIIGXjf8bz",
        "colab_type": "text"
      },
      "source": [
        "### Step 3: Make Predictions\n",
        "We provide 2 options for predicting the class:\n",
        "1. uniform\n",
        "2. weighted"
      ]
    },
    {
      "cell_type": "code",
      "metadata": {
        "id": "_8hrPrMvf95z",
        "colab_type": "code",
        "colab": {}
      },
      "source": [
        "def predict_class(k:int, train: List[List], target_data: List, uniform=True):\n",
        "  neg_dist_class_tuples = get_k_neighbors(k, train, target_data)\n",
        "  pred = None\n",
        "  if uniform:\n",
        "    classes = [c for neg_d, c in neg_dist_class_tuples]\n",
        "    pred = max(set(classes), key=classes.count)\n",
        "  else:\n",
        "    class2weightedSum = defaultdict(float)\n",
        "    for neg_d, c in neg_dist_class_tuples:\n",
        "      class2weightedSum[c] += -1/neg_d if neg_d else 0\n",
        "    pred = max(class2weightedSum.items(), key=lambda x: x[1])[0]\n",
        "\n",
        "  return pred"
      ],
      "execution_count": null,
      "outputs": []
    },
    {
      "cell_type": "markdown",
      "metadata": {
        "id": "NBWjuVuVvPsT",
        "colab_type": "text"
      },
      "source": [
        "### KNN wrapper"
      ]
    },
    {
      "cell_type": "code",
      "metadata": {
        "id": "5_mVdvPnn0O4",
        "colab_type": "code",
        "colab": {}
      },
      "source": [
        "def KNN(k:int, train: List[List], target_data:List[List], uniform=True):\n",
        "  return [predict_class(k, train, target, uniform) for target in target_data]"
      ],
      "execution_count": null,
      "outputs": []
    },
    {
      "cell_type": "markdown",
      "metadata": {
        "id": "ws94ILYswkuA",
        "colab_type": "text"
      },
      "source": [
        "## Run and evaluate KNN"
      ]
    },
    {
      "cell_type": "code",
      "metadata": {
        "id": "LGfuDzXSwjAt",
        "colab_type": "code",
        "colab": {}
      },
      "source": [
        "# Calculate accuracy percentage\n",
        "def accuracy_metric(groundtruth, predicted):\n",
        "\tcorrect = 0\n",
        "\tfor i in range(len(groundtruth)):\n",
        "\t\tif groundtruth[i] == predicted[i]:\n",
        "\t\t\tcorrect += 1\n",
        "\treturn correct / float(len(groundtruth)) * 100.0"
      ],
      "execution_count": null,
      "outputs": []
    },
    {
      "cell_type": "code",
      "metadata": {
        "id": "xgDEMMyfodFh",
        "colab_type": "code",
        "colab": {
          "base_uri": "https://localhost:8080/",
          "height": 248
        },
        "outputId": "4991056b-4b2c-4c2a-cdbd-0cd66466fa0f"
      },
      "source": [
        "# Use 2 dimension data for testing code\n",
        "simple_train = [data[1:] for data in train]\n",
        "simple_test  = [data[1:] for data in test]\n",
        "\n",
        "plot_colors = ['green', 'black', 'red']\n",
        "plot_train_symbols = 'x'\n",
        "plot_test_symbols  = 'o'\n",
        "plot_labels = ['0', '1', '2']\n",
        "fig = plt.figure()\n",
        "axes = fig.add_subplot(111, projection='3d')\n",
        "for data in simple_train:\n",
        "  axes.scatter(data[0], data[1], data[2], c=plot_colors[data[-1]], marker=plot_train_symbols)\n",
        "\n",
        "for data in simple_test:\n",
        "  axes.scatter(data[0], data[1], data[2], c=plot_colors[data[-1]], marker=plot_test_symbols)\n",
        "\n",
        "# rotate the axes and update\n",
        "axes.view_init(10, 60)"
      ],
      "execution_count": null,
      "outputs": [
        {
          "output_type": "display_data",
          "data": {
            "image/png": "[encoded data removed]",
            "text/plain": [
              "<Figure size 432x288 with 1 Axes>"
            ]
          },
          "metadata": {
            "tags": [],
            "needs_background": "light"
          }
        }
      ]
    },
    {
      "cell_type": "code",
      "metadata": {
        "id": "EycHXqHf1VBY",
        "colab_type": "code",
        "colab": {
          "base_uri": "https://localhost:8080/",
          "height": 54
        },
        "outputId": "cc054d57-e962-4941-e9c2-70dfcabf31e2"
      },
      "source": [
        "K = ceil(sqrt(len(train)))\n",
        "if K % 2 == 0:\n",
        "  K += 1\n",
        "# K = 3\n",
        "print(f\"K = {K}\") \n",
        "\n",
        "preds = KNN(K, train, test, False)\n",
        "groundtruth = [data[-1] for data in test]\n",
        "acc = accuracy_metric(groundtruth, preds)\n",
        "print(f\"Accuracy: {acc}\")"
      ],
      "execution_count": null,
      "outputs": [
        {
          "output_type": "stream",
          "text": [
            "K = 11\n",
            "Accuracy: 96.66666666666667\n"
          ],
          "name": "stdout"
        }
      ]
    }
  ]
}