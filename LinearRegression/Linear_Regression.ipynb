{
  "nbformat": 4,
  "nbformat_minor": 0,
  "metadata": {
    "colab": {
      "name": "Linear_Regression.ipynb",
      "provenance": [],
      "collapsed_sections": []
    },
    "kernelspec": {
      "name": "python3",
      "display_name": "Python 3"
    }
  },
  "cells": [
    {
      "cell_type": "markdown",
      "metadata": {
        "id": "HtAilcEINCbd",
        "colab_type": "text"
      },
      "source": [
        "# Multivariate Linear Regression with Gradient Descent"
      ]
    },
    {
      "cell_type": "code",
      "metadata": {
        "id": "uuaK05b53Zdp",
        "colab_type": "code",
        "colab": {
          "base_uri": "https://localhost:8080/",
          "height": 70
        },
        "outputId": "bf0243e9-ab3f-4257-cfa4-447d81498948"
      },
      "source": [
        "import numpy as np\n",
        "from csv import reader\n",
        "import pandas as pd\n",
        "import seaborn as sns\n",
        "from sklearn.model_selection import train_test_split\n",
        "from sklearn.preprocessing import LabelBinarizer\n",
        "import matplotlib.pyplot as plt\n",
        "%matplotlib inline"
      ],
      "execution_count": null,
      "outputs": [
        {
          "output_type": "stream",
          "text": [
            "/usr/local/lib/python3.6/dist-packages/statsmodels/tools/_testing.py:19: FutureWarning: pandas.util.testing is deprecated. Use the functions in the public API at pandas.testing instead.\n",
            "  import pandas.util.testing as tm\n"
          ],
          "name": "stderr"
        }
      ]
    },
    {
      "cell_type": "markdown",
      "metadata": {
        "id": "M4OMM4ZDOzj0",
        "colab_type": "text"
      },
      "source": [
        "## Data preprocessing\n",
        "- Read data\n",
        "- Normalize data\n",
        "- Generate category features\n",
        "- Split data to training set and testing set"
      ]
    },
    {
      "cell_type": "code",
      "metadata": {
        "id": "K9FWqOUXO2i8",
        "colab_type": "code",
        "colab": {
          "base_uri": "https://localhost:8080/",
          "height": 353
        },
        "outputId": "e48cd4b2-aae6-4725-feab-c58f3b63c80a"
      },
      "source": [
        "df = sns.load_dataset('tips')\n",
        "print(\"First few data in the dataset:\\n\")\n",
        "print(df.head())\n",
        "print(\"Total features in the dataset:\\n\")\n",
        "print(df.dtypes)\n",
        "print(f\"Number of unique days in the dataset: {df.day.nunique()}\")\n",
        "print(f\"Number of unique time in the dataset: {df.time.nunique()}\")\n",
        "# df[\"smoker\"] = df[\"smoker\"].astype(\"category\")\n"
      ],
      "execution_count": null,
      "outputs": [
        {
          "output_type": "stream",
          "text": [
            "First few data in the dataset:\n",
            "\n",
            "   total_bill   tip     sex smoker  day    time  size\n",
            "0       16.99  1.01  Female     No  Sun  Dinner     2\n",
            "1       10.34  1.66    Male     No  Sun  Dinner     3\n",
            "2       21.01  3.50    Male     No  Sun  Dinner     3\n",
            "3       23.68  3.31    Male     No  Sun  Dinner     2\n",
            "4       24.59  3.61  Female     No  Sun  Dinner     4\n",
            "Total features in the dataset:\n",
            "\n",
            "total_bill     float64\n",
            "tip            float64\n",
            "sex           category\n",
            "smoker        category\n",
            "day           category\n",
            "time          category\n",
            "size             int64\n",
            "dtype: object\n",
            "Number of unique days in the dataset: 4\n",
            "Number of unique time in the dataset: 2\n"
          ],
          "name": "stdout"
        }
      ]
    },
    {
      "cell_type": "markdown",
      "metadata": {
        "id": "w9vUb-W-PkwY",
        "colab_type": "text"
      },
      "source": [
        "### Feature vector\n",
        "Here, we use one-hot encoding to encode categorical features. In addition, we define\n",
        "$x = [$total_bill, size, sex, smoker, day, time$]^T \\in R^{9\\times1}$\n"
      ]
    },
    {
      "cell_type": "code",
      "metadata": {
        "id": "GOIOs5XiMTNt",
        "colab_type": "code",
        "colab": {}
      },
      "source": [
        "# Create category features with one-hot encoding\n",
        "lb = LabelBinarizer()\n",
        "ohe_day = lb.fit_transform(df.day)\n",
        "ohe_sex = lb.fit_transform(df.sex)\n",
        "ohe_smoker = lb.fit_transform(df.smoker)\n",
        "ohe_time = lb.fit_transform(df.time)"
      ],
      "execution_count": null,
      "outputs": []
    },
    {
      "cell_type": "code",
      "metadata": {
        "id": "L7dAPXinN6PE",
        "colab_type": "code",
        "colab": {
          "base_uri": "https://localhost:8080/",
          "height": 84
        },
        "outputId": "bf83b526-9dae-4f17-bfd1-830adc5541a6"
      },
      "source": [
        "# Normalize data\n",
        "total_bill = np.array((df.total_bill - df.total_bill.mean()) / df.total_bill.std()).reshape(-1, 1)\n",
        "size = np.array((df['size'] - df['size'].mean()) / df['size'].std()).reshape(-1, 1)\n",
        "X_T = np.column_stack((total_bill, size, ohe_sex, ohe_smoker, ohe_day, ohe_time))\n",
        "Y = np.array((df.tip - df.tip.mean()) / df.tip.std()).reshape(-1, 1)\n",
        "\n",
        "# Split the data\n",
        "ratio = 0.2\n",
        "\n",
        "X_T_train, X_T_test, Y_train, Y_test = train_test_split(X_T, Y, test_size=ratio, random_state=23)\n",
        "print(X_T_train.shape)\n",
        "print(X_T_test.shape)\n",
        "print(Y_train.shape)\n",
        "print(Y_test.shape)"
      ],
      "execution_count": null,
      "outputs": [
        {
          "output_type": "stream",
          "text": [
            "(195, 9)\n",
            "(49, 9)\n",
            "(195, 1)\n",
            "(49, 1)\n"
          ],
          "name": "stdout"
        }
      ]
    },
    {
      "cell_type": "markdown",
      "metadata": {
        "id": "ptlPS6BjSb8W",
        "colab_type": "text"
      },
      "source": [
        "## Multivariate Linear Regression\n",
        "The linear equation we are estimating is\n",
        "\n",
        "\\begin{equation}\n",
        "y = w^Tx+b+\\epsilon\\\\\n",
        "\\end{equation}\n",
        "\n",
        "and the estimation would be\n",
        "\\begin{equation}\n",
        "\\hat{y}=w^Tx+b,\\\\\n",
        "w = [w_1, w_2, ..., w_n]^T\n",
        "\\end{equation}\n",
        "\\\n",
        "We will use gradient descent with the L2 loss function\n",
        "\n",
        "\\begin{equation}\n",
        "L = \\frac{1}{2N}\\sum^N_i{(\\hat{y}_i - y_i)^2} = \\frac{1}{2N}\\sum^N_i{(w^Tx_i - y_i)^2},\\\\\n",
        "w \\leftarrow w - \\alpha \\frac{\\partial{L}}{\\partial{w}},\\\\\n",
        "b \\leftarrow b - \\alpha \\frac{\\partial{L}}{\\partial{b}}\n",
        "\\end{equation}\n",
        "\n",
        "where\n",
        "\\begin{equation}\n",
        "\\frac{\\partial{L}}{\\partial{w}} = \\frac{1}{N} \\sum^N_i (w^Tx_i - y_i)x_i = \\frac{1}{N} \\sum^N_i(\\hat{y}_i - y_i)x_i\\\\\n",
        "\\frac{\\partial{L}}{\\partial{b}} = \\frac{1}{N} \\sum^N_i(\\hat{y}_i - y_i)\n",
        "\\end{equation}\n",
        "\\\n",
        "If we use stochastic gradient descent\n",
        "\\begin{equation}\n",
        "L_i = \\frac{1}{2}(\\hat{y}_i - y_i)^2 = \\frac{1}{2}(w^Tx_i - y_i)^2\\\\\n",
        "w \\leftarrow w - \\alpha \\frac{\\partial{L_i}}{\\partial{w}}\\\\\n",
        "b \\leftarrow b - \\alpha \\frac{\\partial{L_i}}{\\partial{b}}\\\\\n",
        "\\frac{\\partial{L_i}}{\\partial{w}} = (w^Tx_i - y_i)x_i = (\\hat{y}_i - y_i)x_i\\\\\n",
        "\\frac{\\partial{L_i}}{\\partial{b}} = (\\hat{y}_i - y_i)\\\\\n",
        "\\end{equation}\n",
        "\\\n",
        "Since $w^Tx$ is a scalar, $w^Tx = x^Tw$. For computation coveniency, we will use $x^Tw$ in the implementation.\n",
        "\\\n",
        "\\\n",
        "Moreover, if we want to implement Lasso regularization, for batch gradient descent,\n",
        "\n",
        "\\begin{equation}\n",
        "L_{reg} = \\frac{1}{2N}\\sum^N_i{(\\hat{y}_i - y_i)^2} + \\lambda ||w||_1 \\\\\n",
        "\\frac{\\partial{L_{reg}}}{\\partial{w}} = \\frac{1}{N} \\sum^N_i(\\hat{y}_i - y_i)x_i + \\lambda\\ sign(w)\n",
        "\\end{equation}\n",
        "\n",
        "Simlarily for SGD"
      ]
    },
    {
      "cell_type": "code",
      "metadata": {
        "id": "4CcfcFl-SrES",
        "colab_type": "code",
        "colab": {}
      },
      "source": [
        "class LinearRegression:\n",
        "  def __init__(self):\n",
        "    self.max_iter = 1000\n",
        "    self.num_iter = 0\n",
        "    self.converge_tol = 1e-5\n",
        "    self.alpha = 1e-2\n",
        "    self.loss = np.inf\n",
        "    self.W = None\n",
        "    self.b = None\n",
        "\n",
        "  def fit(self, X_T, Y, L1_lambda=0, SGD=False, verbose=False):\n",
        "    num_data, num_features = X_T.shape\n",
        "\n",
        "    self.W = np.random.normal(0, 1, (num_features, 1))\n",
        "    self.b = 0\n",
        "\n",
        "    self.num_iter = 0\n",
        "    prev_loss = None\n",
        "\n",
        "    while self.num_iter < self.max_iter:\n",
        "      if SGD:\n",
        "        X_T_Y = np.column_stack((X_T, Y))\n",
        "        np.random.shuffle(X_T_Y)\n",
        "        self.loss = 0\n",
        "        for x_T_y in X_T_Y:\n",
        "          x_T = x_T_y[:-1].reshape(1, -1) # size: 1 X num_features\n",
        "          y = x_T_y[-1]\n",
        "\n",
        "          error = self.predict(x_T) - y # scalar\n",
        "          self.loss += np.square(error) / num_data / 2.0\n",
        "          dLdW = error * x_T.T  # Size: num_features X 1\n",
        "          dLdb = error\n",
        "\n",
        "          # Lasso regularization\n",
        "          if L1_lambda != 0:\n",
        "            self.loss += L1_lambda * np.linalg.norm(self.W, ord=1) / num_data\n",
        "            dLdW += L1_lambda * np.sign(self.W) / num_data\n",
        "\n",
        "          self.W -= self.alpha * dLdW\n",
        "          self.b -= self.alpha * dLdb\n",
        "\n",
        "      else:\n",
        "        error = self.predict(X_T) - Y # Size: num_data X 1\n",
        "        self.loss = np.sum(np.square(error)) / num_data / 2.0\n",
        "        dLdW = np.sum(error * X_T, axis = 0).reshape(-1, 1) / num_data  # Size: num_features X 1\n",
        "        dLdb = np.sum(error, axis = 0) / num_data\n",
        "\n",
        "        # Lasso regularization\n",
        "        if L1_lambda != 0:\n",
        "          self.loss += L1_lambda * np.linalg.norm(self.W, ord=1)\n",
        "          dLdW += L1_lambda * np.sign(self.W)\n",
        "\n",
        "        self.W -= self.alpha * dLdW\n",
        "        self.b -= self.alpha * dLdb\n",
        "\n",
        "      if verbose and self.num_iter % 100 == 0:\n",
        "        print(\"Loss: \", self.loss)\n",
        "        print(\"W: \", self.W)\n",
        "        print(\"b: \", self.b)\n",
        "\n",
        "      if (prev_loss is not None and np.abs(self.loss - prev_loss) < self.converge_tol):\n",
        "        print(\"Converge!\")\n",
        "        break\n",
        "      else:\n",
        "        prev_loss = self.loss\n",
        "\n",
        "      self.num_iter += 1\n",
        "\n",
        "  def predict(self, x_T):\n",
        "    if self.W is None or self.b is None:\n",
        "      print(\"Parameters are not fit yet\")\n",
        "      return None\n",
        "\n",
        "    return x_T @ self.W + self.b"
      ],
      "execution_count": null,
      "outputs": []
    },
    {
      "cell_type": "markdown",
      "metadata": {
        "id": "JDDIZC6ohNeU",
        "colab_type": "text"
      },
      "source": [
        "## Train the model"
      ]
    },
    {
      "cell_type": "markdown",
      "metadata": {
        "id": "JkQZbWTLi6e1",
        "colab_type": "text"
      },
      "source": [
        "### Toy case\n",
        "To test the code, we generate a simple toy case."
      ]
    },
    {
      "cell_type": "code",
      "metadata": {
        "id": "WlQ9UfAWo5IY",
        "colab_type": "code",
        "colab": {}
      },
      "source": [
        "w = 3\n",
        "b = -0.7\n",
        "num_data = 100\n",
        "\n",
        "X_T_toy = np.random.rand(num_data, 1) * 10\n",
        "Y_toy = X_T_toy * w + b + np.random.randn(num_data, 1)"
      ],
      "execution_count": null,
      "outputs": []
    },
    {
      "cell_type": "code",
      "metadata": {
        "id": "mx88S0wYdMkv",
        "colab_type": "code",
        "colab": {
          "base_uri": "https://localhost:8080/",
          "height": 433
        },
        "outputId": "f1bf2278-41a4-411d-fbc7-07c49b300171"
      },
      "source": [
        "# Batch GD\n",
        "LR_GD = LinearRegression()\n",
        "LR_GD.fit(X_T_toy, Y_toy)\n",
        "\n",
        "print(\"total iterations:\\n\", LR_GD.num_iter)\n",
        "print(\"loss:\\n\", LR_GD.loss)\n",
        "print(\"W:\\n\", LR_GD.W)\n",
        "print(\"b:\\n\", LR_GD.b)\n",
        "\n",
        "figure, ax = plt.subplots()\n",
        "ax.plot(X_T_toy.reshape(num_data), Y_toy.reshape(num_data), 'k.')\n",
        "x_T_samples = np.linspace(0,10,20).reshape(-1, 1)\n",
        "y_pred = LR_GD.predict(x_T_samples)\n",
        "ax.plot(x_T_samples, y_pred, 'rx')"
      ],
      "execution_count": null,
      "outputs": [
        {
          "output_type": "stream",
          "text": [
            "Converge!\n",
            "total iterations:\n",
            " 629\n",
            "loss:\n",
            " 0.44355904489583686\n",
            "W:\n",
            " [[2.94652959]]\n",
            "b:\n",
            " [-0.29727888]\n"
          ],
          "name": "stdout"
        },
        {
          "output_type": "execute_result",
          "data": {
            "text/plain": [
              "[<matplotlib.lines.Line2D at 0x7f1c10022fd0>]"
            ]
          },
          "metadata": {
            "tags": []
          },
          "execution_count": 32
        },
        {
          "output_type": "display_data",
          "data": {
            "image/png": "[encoded data removed]",
            "text/plain": [
              "<Figure size 432x288 with 1 Axes>"
            ]
          },
          "metadata": {
            "tags": [],
            "needs_background": "light"
          }
        }
      ]
    },
    {
      "cell_type": "code",
      "metadata": {
        "id": "ZKWSsXMWCA7d",
        "colab_type": "code",
        "colab": {
          "base_uri": "https://localhost:8080/",
          "height": 433
        },
        "outputId": "beb2a24b-0785-45f5-89dc-b5e8292c4ca4"
      },
      "source": [
        "# SGD\n",
        "LR_SGD = LinearRegression()\n",
        "LR_SGD.fit(X_T_toy, Y_toy, SGD=True)\n",
        "\n",
        "print(\"total iterations:\\n\", LR_SGD.num_iter)\n",
        "print(\"loss:\\n\", LR_SGD.loss)\n",
        "print(\"W:\\n\", LR_SGD.W)\n",
        "print(\"b:\\n\", LR_SGD.b)\n",
        "\n",
        "figure, ax = plt.subplots()\n",
        "ax.plot(X_T_toy.reshape(num_data), Y_toy.reshape(num_data), 'k.')\n",
        "x_T_samples = np.linspace(0,10,20).reshape(-1, 1)\n",
        "y_pred = LR_SGD.predict(x_T_samples)\n",
        "ax.plot(x_T_samples, y_pred, 'rx')"
      ],
      "execution_count": null,
      "outputs": [
        {
          "output_type": "stream",
          "text": [
            "Converge!\n",
            "total iterations:\n",
            " 136\n",
            "loss:\n",
            " [[0.51049738]]\n",
            "W:\n",
            " [[3.12401248]]\n",
            "b:\n",
            " [[-0.34511228]]\n"
          ],
          "name": "stdout"
        },
        {
          "output_type": "execute_result",
          "data": {
            "text/plain": [
              "[<matplotlib.lines.Line2D at 0x7f1c0ff98c88>]"
            ]
          },
          "metadata": {
            "tags": []
          },
          "execution_count": 33
        },
        {
          "output_type": "display_data",
          "data": {
            "image/png": "[encoded data removed]",
            "text/plain": [
              "<Figure size 432x288 with 1 Axes>"
            ]
          },
          "metadata": {
            "tags": [],
            "needs_background": "light"
          }
        }
      ]
    },
    {
      "cell_type": "code",
      "metadata": {
        "id": "brSEgpI05Ed_",
        "colab_type": "code",
        "colab": {
          "base_uri": "https://localhost:8080/",
          "height": 315
        },
        "outputId": "f965fc60-2bb0-4684-c820-b5070d7dbfd5"
      },
      "source": [
        "# Compare with the linear regression model in sklearn\n",
        "from sklearn import linear_model \n",
        "# Create linear regression model and assign it to the variable 'linModel'\n",
        "linModel = linear_model.LinearRegression()\n",
        "linModel.fit(X_T_toy, Y_toy)\n",
        "print(linModel.coef_)\n",
        "print(linModel.intercept_)\n",
        "\n",
        "figure, ax = plt.subplots()\n",
        "ax.plot(X_T_toy.reshape(num_data), Y_toy.reshape(num_data), 'k.')\n",
        "x_T_samples = np.linspace(0,10,20).reshape(-1, 1)\n",
        "y_pred = linModel.predict(x_T_samples)\n",
        "ax.plot(x_T_samples, y_pred, 'rx')"
      ],
      "execution_count": null,
      "outputs": [
        {
          "output_type": "stream",
          "text": [
            "[[2.96438396]]\n",
            "[-0.41325372]\n"
          ],
          "name": "stdout"
        },
        {
          "output_type": "execute_result",
          "data": {
            "text/plain": [
              "[<matplotlib.lines.Line2D at 0x7f1c0ff83588>]"
            ]
          },
          "metadata": {
            "tags": []
          },
          "execution_count": 34
        },
        {
          "output_type": "display_data",
          "data": {
            "image/png": "[encoded data removed]",
            "text/plain": [
              "<Figure size 432x288 with 1 Axes>"
            ]
          },
          "metadata": {
            "tags": [],
            "needs_background": "light"
          }
        }
      ]
    },
    {
      "cell_type": "markdown",
      "metadata": {
        "id": "R-YJ59YK6xR3",
        "colab_type": "text"
      },
      "source": [
        "### Train with real data"
      ]
    },
    {
      "cell_type": "code",
      "metadata": {
        "id": "fATw8Hs161_R",
        "colab_type": "code",
        "colab": {
          "base_uri": "https://localhost:8080/",
          "height": 286
        },
        "outputId": "cba94d52-6e45-41d5-bed6-ec72d2591a10"
      },
      "source": [
        "# Batch gradient descent without lasso\n",
        "LR_GD = LinearRegression()\n",
        "LR_GD.fit(X_T_train, Y_train, verbose=False)\n",
        "\n",
        "print(\"total iterations:\\n\", LR_GD.num_iter)\n",
        "print(\"loss:\\n\", LR_GD.loss)\n",
        "print(\"W:\\n\", LR_GD.W)\n",
        "print(\"b:\\n\", LR_GD.b)"
      ],
      "execution_count": null,
      "outputs": [
        {
          "output_type": "stream",
          "text": [
            "total iterations:\n",
            " 1000\n",
            "loss:\n",
            " 0.2900153209702338\n",
            "W:\n",
            " [[ 0.53499387]\n",
            " [ 0.14763661]\n",
            " [-0.23251114]\n",
            " [ 0.1106649 ]\n",
            " [ 0.21302133]\n",
            " [-0.07060753]\n",
            " [-0.01765906]\n",
            " [ 0.58210958]\n",
            " [-0.60522586]]\n",
            "b:\n",
            " [0.1462711]\n"
          ],
          "name": "stdout"
        }
      ]
    },
    {
      "cell_type": "code",
      "metadata": {
        "id": "wbLl8PX3ZVzC",
        "colab_type": "code",
        "colab": {
          "base_uri": "https://localhost:8080/",
          "height": 286
        },
        "outputId": "d2cd58cc-baa6-4062-986f-ccf91eccf871"
      },
      "source": [
        "# Batch gradient descent with lasso\n",
        "LR_GD_lasso = LinearRegression()\n",
        "LR_GD_lasso.fit(X_T_train, Y_train, L1_lambda=1e-2, verbose=False)\n",
        "\n",
        "print(\"total iterations:\\n\", LR_GD_lasso.num_iter)\n",
        "print(\"loss:\\n\", LR_GD_lasso.loss)\n",
        "print(\"W:\\n\", LR_GD_lasso.W)\n",
        "print(\"b:\\n\", LR_GD_lasso.b)"
      ],
      "execution_count": null,
      "outputs": [
        {
          "output_type": "stream",
          "text": [
            "total iterations:\n",
            " 1000\n",
            "loss:\n",
            " 0.2898968133146734\n",
            "W:\n",
            " [[ 6.03010179e-01]\n",
            " [ 6.22896958e-02]\n",
            " [-6.23401390e-03]\n",
            " [-1.53053932e-01]\n",
            " [ 5.46246838e-02]\n",
            " [-9.83619596e-05]\n",
            " [-6.90062905e-02]\n",
            " [ 3.09716337e-02]\n",
            " [ 4.57909364e-05]]\n",
            "b:\n",
            " [0.06920808]\n"
          ],
          "name": "stdout"
        }
      ]
    },
    {
      "cell_type": "code",
      "metadata": {
        "id": "8FTzjm76CfsP",
        "colab_type": "code",
        "colab": {
          "base_uri": "https://localhost:8080/",
          "height": 302
        },
        "outputId": "9c2f5b3d-2dd0-4bb7-e9bc-3decab995e2b"
      },
      "source": [
        "# Stochastic gradient descent\n",
        "LR_SGD = LinearRegression()\n",
        "LR_SGD.fit(X_T_train, Y_train, verbose=False)\n",
        "\n",
        "print(\"total iterations:\\n\", LR_SGD.num_iter)\n",
        "print(\"loss:\\n\", LR_SGD.loss)\n",
        "print(\"W:\\n\", LR_SGD.W)\n",
        "print(\"b:\\n\", LR_SGD.b)"
      ],
      "execution_count": null,
      "outputs": [
        {
          "output_type": "stream",
          "text": [
            "Converge!\n",
            "total iterations:\n",
            " 818\n",
            "loss:\n",
            " 0.28075770985689386\n",
            "W:\n",
            " [[ 0.61604082]\n",
            " [ 0.07451644]\n",
            " [ 0.02616443]\n",
            " [-0.13952943]\n",
            " [ 0.15971829]\n",
            " [ 0.1451767 ]\n",
            " [-0.01772461]\n",
            " [-0.00423802]\n",
            " [ 0.26120743]]\n",
            "b:\n",
            " [-0.10903837]\n"
          ],
          "name": "stdout"
        }
      ]
    },
    {
      "cell_type": "code",
      "metadata": {
        "id": "mHDKAy6rfINS",
        "colab_type": "code",
        "colab": {
          "base_uri": "https://localhost:8080/",
          "height": 302
        },
        "outputId": "01c5997a-48c0-41b1-f79d-2fac911caa16"
      },
      "source": [
        "# Stochastic gradient descent with lasso\n",
        "LR_SGD_lasso = LinearRegression()\n",
        "LR_SGD_lasso.fit(X_T_train, Y_train, L1_lambda=5e-2, verbose=False)\n",
        "\n",
        "print(\"total iterations:\\n\", LR_SGD_lasso.num_iter)\n",
        "print(\"loss:\\n\", LR_SGD_lasso.loss)\n",
        "print(\"W:\\n\", LR_SGD_lasso.W)\n",
        "print(\"b:\\n\", LR_SGD_lasso.b)"
      ],
      "execution_count": null,
      "outputs": [
        {
          "output_type": "stream",
          "text": [
            "Converge!\n",
            "total iterations:\n",
            " 651\n",
            "loss:\n",
            " 0.3160202529703474\n",
            "W:\n",
            " [[ 5.47727397e-01]\n",
            " [ 6.24239896e-02]\n",
            " [-5.74812913e-02]\n",
            " [-2.45598101e-04]\n",
            " [-1.19447090e-03]\n",
            " [-2.61097989e-04]\n",
            " [-6.53747994e-04]\n",
            " [ 1.95946996e-04]\n",
            " [ 2.86511434e-04]]\n",
            "b:\n",
            " [0.05971004]\n"
          ],
          "name": "stdout"
        }
      ]
    },
    {
      "cell_type": "code",
      "metadata": {
        "id": "QyLQ4oGn7Z52",
        "colab_type": "code",
        "colab": {
          "base_uri": "https://localhost:8080/",
          "height": 67
        },
        "outputId": "8bbcebbd-4f44-4f4d-f3cb-e9e2709297c6"
      },
      "source": [
        "linModel = linear_model.LinearRegression()\n",
        "linModel.fit(X_T_train, Y_train)\n",
        "print(linModel.coef_)\n",
        "print(linModel.intercept_)"
      ],
      "execution_count": null,
      "outputs": [
        {
          "output_type": "stream",
          "text": [
            "[[ 0.58286756  0.1007737  -0.00181493 -0.04630166  0.0831398  -0.03916076\n",
            "  -0.10674474  0.0627657  -0.01558751]]\n",
            "[0.03373372]\n"
          ],
          "name": "stdout"
        }
      ]
    },
    {
      "cell_type": "markdown",
      "metadata": {
        "id": "f62qTfd5hQxD",
        "colab_type": "text"
      },
      "source": [
        "## Test the model"
      ]
    },
    {
      "cell_type": "code",
      "metadata": {
        "id": "gSqotROI7b2n",
        "colab_type": "code",
        "colab": {
          "base_uri": "https://localhost:8080/",
          "height": 84
        },
        "outputId": "0ced7050-8d4e-4d04-efb6-5cd21d3161ab"
      },
      "source": [
        "y_pred_GD = LR_GD.predict(X_T_test)\n",
        "error_GD = np.sum(np.square(y_pred_GD - Y_test)) / len(y_pred_GD)\n",
        "print(f\"The error with batch gradient descent: {error_GD}\")\n",
        "\n",
        "y_pred_GD_lasso = LR_GD_lasso.predict(X_T_test)\n",
        "error_GD_lasso = np.sum(np.square(y_pred_GD_lasso - Y_test)) / len(y_pred_GD_lasso)\n",
        "print(f\"The error with batch gradient descent and lasso regularizatoin: {error_GD_lasso}\")\n",
        "\n",
        "y_pred_SGD = LR_SGD.predict(X_T_test)\n",
        "error_SGD = np.sum(np.square(y_pred_SGD - Y_test)) / len(y_pred_SGD)\n",
        "print(f\"The error with stochastic gradient descent: {error_SGD}\")\n",
        "\n",
        "y_pred_SGD_lasso = LR_SGD_lasso.predict(X_T_test)\n",
        "error_SGD_lasso = np.sum(np.square(y_pred_SGD_lasso - Y_test)) / len(y_pred_SGD_lasso)\n",
        "print(f\"The error with stochastic gradient descent and lasso regularizatoin: {error_SGD_lasso}\")"
      ],
      "execution_count": null,
      "outputs": [
        {
          "output_type": "stream",
          "text": [
            "The error with batch gradient descent: 0.4642952944926491\n",
            "The error with batch gradient descent and lasso regularizatoin: 0.4478979395065011\n",
            "The error with stochastic gradient descent: 0.49343137253622854\n",
            "The error with stochastic gradient descent and lasso regularizatoin: 0.45493483808130214\n"
          ],
          "name": "stdout"
        }
      ]
    },
    {
      "cell_type": "code",
      "metadata": {
        "id": "g9qJcqiW8MFh",
        "colab_type": "code",
        "colab": {
          "base_uri": "https://localhost:8080/",
          "height": 34
        },
        "outputId": "f0da45eb-54a8-4ebc-c232-aab81db19860"
      },
      "source": [
        "y_pred_skl = linModel.predict(X_T_test)\n",
        "error_skl = np.sum(np.square(y_pred_skl - Y_test)) / len(y_pred_skl)\n",
        "print(f\"The error with sklearn linear regression: {error_skl}\")"
      ],
      "execution_count": null,
      "outputs": [
        {
          "output_type": "stream",
          "text": [
            "The error with sklearn linear regression: 0.46017277997320266\n"
          ],
          "name": "stdout"
        }
      ]
    },
    {
      "cell_type": "markdown",
      "metadata": {
        "id": "UFON81oNfwyU",
        "colab_type": "text"
      },
      "source": [
        "## Conclusion\n",
        "We can see that\n",
        "- Batch gradient descent performs better than SGD, as the theory.\n",
        "- With fine-tuned regularization rate, linear regression with Lasso performs better than without. This could indicate some features are redundant."
      ]
    }
  ]
}