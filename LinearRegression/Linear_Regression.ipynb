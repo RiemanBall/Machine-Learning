{
  "nbformat": 4,
  "nbformat_minor": 0,
  "metadata": {
    "colab": {
      "name": "Linear_Regression.ipynb",
      "provenance": [],
      "collapsed_sections": [],
      "authorship_tag": "ABX9TyO5b2pkf4Mn08gKtdKxjgyy"
    },
    "kernelspec": {
      "name": "python3",
      "display_name": "Python 3"
    }
  },
  "cells": [
    {
      "cell_type": "markdown",
      "metadata": {
        "id": "HtAilcEINCbd",
        "colab_type": "text"
      },
      "source": [
        "# Multivariate Linear Regression with Gradient Descent"
      ]
    },
    {
      "cell_type": "code",
      "metadata": {
        "id": "uuaK05b53Zdp",
        "colab_type": "code",
        "colab": {
          "base_uri": "https://localhost:8080/",
          "height": 70
        },
        "outputId": "0ce6b1b5-f626-44d4-fea8-59e20f55fc52"
      },
      "source": [
        "import numpy as np\n",
        "np.random.seed(22)\n",
        "\n",
        "from csv import reader\n",
        "import pandas as pd\n",
        "import seaborn as sns\n",
        "from sklearn.model_selection import train_test_split\n",
        "from sklearn.preprocessing import LabelBinarizer, OneHotEncoder\n",
        "import matplotlib.pyplot as plt\n",
        "%matplotlib inline"
      ],
      "execution_count": null,
      "outputs": [
        {
          "output_type": "stream",
          "text": [
            "/usr/local/lib/python3.6/dist-packages/statsmodels/tools/_testing.py:19: FutureWarning: pandas.util.testing is deprecated. Use the functions in the public API at pandas.testing instead.\n",
            "  import pandas.util.testing as tm\n"
          ],
          "name": "stderr"
        }
      ]
    },
    {
      "cell_type": "markdown",
      "metadata": {
        "id": "M4OMM4ZDOzj0",
        "colab_type": "text"
      },
      "source": [
        "## Data preprocessing\n",
        "- Read data\n",
        "- Generate category features\n",
        "- Normalize data\n",
        "- Split data to training set and testing set"
      ]
    },
    {
      "cell_type": "code",
      "metadata": {
        "id": "K9FWqOUXO2i8",
        "colab_type": "code",
        "colab": {
          "base_uri": "https://localhost:8080/",
          "height": 353
        },
        "outputId": "ea4f19f2-1dbc-4f47-ce22-1f709b2bc973"
      },
      "source": [
        "df = sns.load_dataset('tips')\n",
        "print(\"First few data in the dataset:\\n\")\n",
        "print(df.head())\n",
        "print(\"Total features in the dataset:\\n\")\n",
        "print(df.dtypes)\n",
        "print(f\"Number of unique days in the dataset: {df.day.nunique()}\")\n",
        "print(f\"Number of unique time in the dataset: {df.time.nunique()}\")\n",
        "# df[\"smoker\"] = df[\"smoker\"].astype(\"category\")\n"
      ],
      "execution_count": null,
      "outputs": [
        {
          "output_type": "stream",
          "text": [
            "First few data in the dataset:\n",
            "\n",
            "   total_bill   tip     sex smoker  day    time  size\n",
            "0       16.99  1.01  Female     No  Sun  Dinner     2\n",
            "1       10.34  1.66    Male     No  Sun  Dinner     3\n",
            "2       21.01  3.50    Male     No  Sun  Dinner     3\n",
            "3       23.68  3.31    Male     No  Sun  Dinner     2\n",
            "4       24.59  3.61  Female     No  Sun  Dinner     4\n",
            "Total features in the dataset:\n",
            "\n",
            "total_bill     float64\n",
            "tip            float64\n",
            "sex           category\n",
            "smoker        category\n",
            "day           category\n",
            "time          category\n",
            "size             int64\n",
            "dtype: object\n",
            "Number of unique days in the dataset: 4\n",
            "Number of unique time in the dataset: 2\n"
          ],
          "name": "stdout"
        }
      ]
    },
    {
      "cell_type": "markdown",
      "metadata": {
        "id": "w9vUb-W-PkwY",
        "colab_type": "text"
      },
      "source": [
        "### Feature vector\n",
        "Here, we use one-hot encoding to encode categorical features with dropping one dummy feature in day. In addition, we define\n",
        "\n",
        "$x = [$total_bill, size, sex, smoker, $day_{3\\times1}$, time$]^T \\in R^{8\\times1}$\n"
      ]
    },
    {
      "cell_type": "code",
      "metadata": {
        "id": "GOIOs5XiMTNt",
        "colab_type": "code",
        "colab": {}
      },
      "source": [
        "# Create category features with one-hot encoding\n",
        "# lb = LabelBinarizer()\n",
        "# ohe_day = lb.fit_transform(df.day)\n",
        "# ohe_sex = lb.fit_transform(df.sex)\n",
        "# ohe_smoker = lb.fit_transform(df.smoker)\n",
        "# ohe_time = lb.fit_transform(df.time)\n",
        "\n",
        "encoder = OneHotEncoder(drop='first', sparse=False)\n",
        "ohe_day = encoder.fit_transform(df.day.to_numpy().reshape(-1, 1))\n",
        "ohe_sex = encoder.fit_transform(df.sex.to_numpy().reshape(-1, 1))\n",
        "ohe_smoker = encoder.fit_transform(df.smoker.to_numpy().reshape(-1, 1))\n",
        "ohe_time = encoder.fit_transform(df.time.to_numpy().reshape(-1, 1))"
      ],
      "execution_count": null,
      "outputs": []
    },
    {
      "cell_type": "code",
      "metadata": {
        "id": "L7dAPXinN6PE",
        "colab_type": "code",
        "colab": {
          "base_uri": "https://localhost:8080/",
          "height": 84
        },
        "outputId": "a8dc4ecf-ab0c-4207-be42-ee834e4b81dd"
      },
      "source": [
        "# Normalize data\n",
        "total_bill = np.array((df.total_bill - df.total_bill.mean()) / df.total_bill.std()).reshape(-1, 1)\n",
        "size = np.array((df['size'] - df['size'].mean()) / df['size'].std()).reshape(-1, 1)\n",
        "X_T = np.column_stack((total_bill, size, ohe_sex, ohe_smoker, ohe_day, ohe_time))\n",
        "Y = np.array((df.tip - df.tip.mean()) / df.tip.std()).reshape(-1, 1)\n",
        "\n",
        "# Split the data\n",
        "ratio = 0.2\n",
        "\n",
        "X_T_train, X_T_test, Y_train, Y_test = train_test_split(X_T, Y, test_size=ratio, random_state=23)\n",
        "print(X_T_train.shape)\n",
        "print(X_T_test.shape)\n",
        "print(Y_train.shape)\n",
        "print(Y_test.shape)"
      ],
      "execution_count": null,
      "outputs": [
        {
          "output_type": "stream",
          "text": [
            "(195, 8)\n",
            "(49, 8)\n",
            "(195, 1)\n",
            "(49, 1)\n"
          ],
          "name": "stdout"
        }
      ]
    },
    {
      "cell_type": "markdown",
      "metadata": {
        "id": "ptlPS6BjSb8W",
        "colab_type": "text"
      },
      "source": [
        "## Multivariate Linear Regression\n",
        "The linear equation we are estimating is\n",
        "\n",
        "\\begin{equation}\n",
        "y = w^Tx+b+\\epsilon\\\\\n",
        "\\end{equation}\n",
        "\n",
        "and the estimation would be\n",
        "\\begin{equation}\n",
        "\\hat{y}=w^Tx+b,\\\\\n",
        "w = [w_1, w_2, ..., w_n]^T\n",
        "\\end{equation}\n",
        "\\\n",
        "We will use gradient descent with the L2 loss function\n",
        "\n",
        "\\begin{equation}\n",
        "L = \\frac{1}{2N}\\sum^N_i{(\\hat{y}_i - y_i)^2} = \\frac{1}{2N}\\sum^N_i{(w^Tx_i + b - y_i)^2},\\\\\n",
        "w \\leftarrow w - \\alpha \\frac{\\partial{L}}{\\partial{w}},\\\\\n",
        "b \\leftarrow b - \\alpha \\frac{\\partial{L}}{\\partial{b}}\n",
        "\\end{equation}\n",
        "\n",
        "where\n",
        "\\begin{equation}\n",
        "\\frac{\\partial{L}}{\\partial{w}} = \\frac{1}{N} \\sum^N_i (w^Tx_i + b - y_i)x_i = \\frac{1}{N} \\sum^N_i(\\hat{y}_i - y_i)x_i\\\\\n",
        "\\frac{\\partial{L}}{\\partial{b}} = \\frac{1}{N} \\sum^N_i(\\hat{y}_i - y_i)\n",
        "\\end{equation}\n",
        "\\\n",
        "If we use stochastic gradient descent\n",
        "\\begin{equation}\n",
        "L_i = \\frac{1}{2}(\\hat{y}_i - y_i)^2 = \\frac{1}{2}(w^Tx_i + b - y_i)^2\\\\\n",
        "w \\leftarrow w - \\alpha \\frac{\\partial{L_i}}{\\partial{w}}\\\\\n",
        "b \\leftarrow b - \\alpha \\frac{\\partial{L_i}}{\\partial{b}}\\\\\n",
        "\\frac{\\partial{L_i}}{\\partial{w}} = (w^Tx_i + b - y_i)x_i = (\\hat{y}_i - y_i)x_i\\\\\n",
        "\\frac{\\partial{L_i}}{\\partial{b}} = (\\hat{y}_i - y_i)\\\\\n",
        "\\end{equation}\n",
        "\\\n",
        "Since $w^Tx$ is a scalar, $w^Tx = x^Tw$. For computation coveniency, we will use $x^Tw$ in the implementation.\n",
        "\\\n",
        "\\\n",
        "Moreover, if we want to implement Lasso regularization, for batch gradient descent,\n",
        "\n",
        "\\begin{equation}\n",
        "L_{reg} = \\frac{1}{2N}\\sum^N_i{(\\hat{y}_i - y_i)^2} + \\lambda ||w||_1 \\\\\n",
        "\\frac{\\partial{L_{reg}}}{\\partial{w}} = \\frac{1}{N} \\sum^N_i(\\hat{y}_i - y_i)x_i + \\lambda\\ sign(w)\n",
        "\\end{equation}\n",
        "\n",
        "Simlarily for SGD"
      ]
    },
    {
      "cell_type": "code",
      "metadata": {
        "id": "4CcfcFl-SrES",
        "colab_type": "code",
        "colab": {}
      },
      "source": [
        "class LinearRegression:\n",
        "  def __init__(self):\n",
        "    self.max_iter = 2000\n",
        "    self.num_iter = 0\n",
        "    self.converge_tol = 1e-5\n",
        "    self.alpha = 1e-2\n",
        "    self.loss = np.inf\n",
        "    self.W = None\n",
        "    self.b = None\n",
        "\n",
        "  def fit(self, X_T, Y, L1_lambda=0, SGD=False, verbose=False):\n",
        "    num_data, num_features = X_T.shape\n",
        "\n",
        "    self.W = np.random.normal(0, 1, (num_features, 1))\n",
        "    self.b = 0\n",
        "\n",
        "    self.num_iter = 0\n",
        "    prev_loss = None\n",
        "\n",
        "    while self.num_iter < self.max_iter:\n",
        "      if SGD:\n",
        "        X_T_Y = np.column_stack((X_T, Y))\n",
        "        np.random.shuffle(X_T_Y)\n",
        "        for x_T_y in X_T_Y:\n",
        "          x_T = x_T_y[:-1].reshape(1, -1) # size: 1 X num_features\n",
        "          y = x_T_y[-1]\n",
        "\n",
        "          error = (self.predict(x_T) - y)[0] # scalar\n",
        "          # Lasso regularization\n",
        "          dLdW = error * x_T.T + L1_lambda * np.sign(self.W) / num_data # Size: num_features X 1\n",
        "          dLdb = error\n",
        "\n",
        "          self.W -= self.alpha * dLdW\n",
        "          self.b -= self.alpha * dLdb\n",
        "\n",
        "      else:\n",
        "        error = self.predict(X_T) - Y # Size: num_data X 1\n",
        "        # Lasso regularization\n",
        "        dLdW = np.sum(error * X_T, axis = 0).reshape(-1, 1) / num_data + L1_lambda * np.sign(self.W) # Size: num_features X 1\n",
        "        dLdb = np.sum(error, axis = 0) / num_data\n",
        "\n",
        "        self.W -= self.alpha * dLdW\n",
        "        self.b -= self.alpha * dLdb\n",
        "\n",
        "      # Compute loss with updated W and b\n",
        "      cur_loss = np.sum(np.square(self.predict(X_T) - Y)) / num_data / 2.0 + L1_lambda * np.linalg.norm(self.W, ord=1)\n",
        "\n",
        "      if verbose and self.num_iter % 100 == 0:\n",
        "        print(\"Loss: \", cur_loss)\n",
        "        print(\"W: \", self.W)\n",
        "        print(\"b: \", self.b)\n",
        "\n",
        "      if (np.abs(self.loss - cur_loss) < self.converge_tol):\n",
        "        print(\"Converge!\")\n",
        "        break\n",
        "      else:\n",
        "        self.loss = cur_loss\n",
        "\n",
        "      self.num_iter += 1\n",
        "\n",
        "  def predict(self, x_T):\n",
        "    if self.W is None or self.b is None:\n",
        "      print(\"Parameters are not fit yet\")\n",
        "      return None\n",
        "\n",
        "    return x_T @ self.W + self.b"
      ],
      "execution_count": null,
      "outputs": []
    },
    {
      "cell_type": "markdown",
      "metadata": {
        "id": "JDDIZC6ohNeU",
        "colab_type": "text"
      },
      "source": [
        "## Train the model"
      ]
    },
    {
      "cell_type": "markdown",
      "metadata": {
        "id": "JkQZbWTLi6e1",
        "colab_type": "text"
      },
      "source": [
        "### Toy case\n",
        "To test the code, we generate a simple toy case."
      ]
    },
    {
      "cell_type": "code",
      "metadata": {
        "id": "WlQ9UfAWo5IY",
        "colab_type": "code",
        "colab": {}
      },
      "source": [
        "w = 3\n",
        "b = -0.7\n",
        "num_data = 100\n",
        "\n",
        "X_T_toy = np.random.rand(num_data, 1) * 10\n",
        "Y_toy = X_T_toy * w + b + np.random.randn(num_data, 1)"
      ],
      "execution_count": null,
      "outputs": []
    },
    {
      "cell_type": "code",
      "metadata": {
        "id": "mx88S0wYdMkv",
        "colab_type": "code",
        "colab": {
          "base_uri": "https://localhost:8080/",
          "height": 433
        },
        "outputId": "a1c6d4db-c03c-472c-a24f-ecbec7fd5e02"
      },
      "source": [
        "# Batch GD\n",
        "LR_GD = LinearRegression()\n",
        "LR_GD.fit(X_T_toy, Y_toy)\n",
        "\n",
        "print(\"total iterations:\\n\", LR_GD.num_iter)\n",
        "print(\"loss:\\n\", LR_GD.loss)\n",
        "print(\"W:\\n\", LR_GD.W)\n",
        "print(\"b:\\n\", LR_GD.b)\n",
        "\n",
        "figure, ax = plt.subplots()\n",
        "ax.plot(X_T_toy.reshape(num_data), Y_toy.reshape(num_data), 'k.')\n",
        "x_T_samples = np.linspace(0,10,20).reshape(-1, 1)\n",
        "y_pred = LR_GD.predict(x_T_samples)\n",
        "ax.plot(x_T_samples, y_pred, 'rx')"
      ],
      "execution_count": null,
      "outputs": [
        {
          "output_type": "stream",
          "text": [
            "Converge!\n",
            "total iterations:\n",
            " 580\n",
            "loss:\n",
            " 0.48637582666160595\n",
            "W:\n",
            " [[2.9126895]]\n",
            "b:\n",
            " [-0.06085253]\n"
          ],
          "name": "stdout"
        },
        {
          "output_type": "execute_result",
          "data": {
            "text/plain": [
              "[<matplotlib.lines.Line2D at 0x7f79cc9a03c8>]"
            ]
          },
          "metadata": {
            "tags": []
          },
          "execution_count": 7
        },
        {
          "output_type": "display_data",
          "data": {
            "image/png": "[encoded data removed]",
            "text/plain": [
              "<Figure size 432x288 with 1 Axes>"
            ]
          },
          "metadata": {
            "tags": [],
            "needs_background": "light"
          }
        }
      ]
    },
    {
      "cell_type": "code",
      "metadata": {
        "id": "ZKWSsXMWCA7d",
        "colab_type": "code",
        "colab": {
          "base_uri": "https://localhost:8080/",
          "height": 433
        },
        "outputId": "4a35e430-7004-4259-b92e-50b0abe06a90"
      },
      "source": [
        "# SGD\n",
        "LR_SGD = LinearRegression()\n",
        "LR_SGD.fit(X_T_toy, Y_toy, SGD=True)\n",
        "\n",
        "print(\"total iterations:\\n\", LR_SGD.num_iter)\n",
        "print(\"loss:\\n\", LR_SGD.loss)\n",
        "print(\"W:\\n\", LR_SGD.W)\n",
        "print(\"b:\\n\", LR_SGD.b)\n",
        "\n",
        "figure, ax = plt.subplots()\n",
        "ax.plot(X_T_toy.reshape(num_data), Y_toy.reshape(num_data), 'k.')\n",
        "x_T_samples = np.linspace(0,10,20).reshape(-1, 1)\n",
        "y_pred = LR_SGD.predict(x_T_samples)\n",
        "ax.plot(x_T_samples, y_pred, 'rx')"
      ],
      "execution_count": null,
      "outputs": [
        {
          "output_type": "stream",
          "text": [
            "Converge!\n",
            "total iterations:\n",
            " 751\n",
            "loss:\n",
            " 0.6518325511843837\n",
            "W:\n",
            " [[3.03325537]]\n",
            "b:\n",
            " [-0.1992957]\n"
          ],
          "name": "stdout"
        },
        {
          "output_type": "execute_result",
          "data": {
            "text/plain": [
              "[<matplotlib.lines.Line2D at 0x7f79cc474a90>]"
            ]
          },
          "metadata": {
            "tags": []
          },
          "execution_count": 8
        },
        {
          "output_type": "display_data",
          "data": {
            "image/png": "[encoded data removed]",
            "text/plain": [
              "<Figure size 432x288 with 1 Axes>"
            ]
          },
          "metadata": {
            "tags": [],
            "needs_background": "light"
          }
        }
      ]
    },
    {
      "cell_type": "code",
      "metadata": {
        "id": "brSEgpI05Ed_",
        "colab_type": "code",
        "colab": {
          "base_uri": "https://localhost:8080/",
          "height": 315
        },
        "outputId": "f1908bbf-032a-4e1b-9323-0ab6fc99d5cb"
      },
      "source": [
        "# Compare with the linear regression model in sklearn\n",
        "from sklearn import linear_model \n",
        "# Create linear regression model and assign it to the variable 'linModel'\n",
        "linModel = linear_model.LinearRegression()\n",
        "linModel.fit(X_T_toy, Y_toy)\n",
        "print(linModel.coef_)\n",
        "print(linModel.intercept_)\n",
        "\n",
        "figure, ax = plt.subplots()\n",
        "ax.plot(X_T_toy.reshape(num_data), Y_toy.reshape(num_data), 'k.')\n",
        "x_T_samples = np.linspace(0,10,20).reshape(-1, 1)\n",
        "y_pred = linModel.predict(x_T_samples)\n",
        "ax.plot(x_T_samples, y_pred, 'rx')"
      ],
      "execution_count": null,
      "outputs": [
        {
          "output_type": "stream",
          "text": [
            "[[2.93078277]]\n",
            "[-0.18195664]\n"
          ],
          "name": "stdout"
        },
        {
          "output_type": "execute_result",
          "data": {
            "text/plain": [
              "[<matplotlib.lines.Line2D at 0x7f79cacf3ef0>]"
            ]
          },
          "metadata": {
            "tags": []
          },
          "execution_count": 9
        },
        {
          "output_type": "display_data",
          "data": {
            "image/png": "[encoded data removed]",
            "text/plain": [
              "<Figure size 432x288 with 1 Axes>"
            ]
          },
          "metadata": {
            "tags": [],
            "needs_background": "light"
          }
        }
      ]
    },
    {
      "cell_type": "markdown",
      "metadata": {
        "id": "R-YJ59YK6xR3",
        "colab_type": "text"
      },
      "source": [
        "### Train with real data"
      ]
    },
    {
      "cell_type": "code",
      "metadata": {
        "id": "fATw8Hs161_R",
        "colab_type": "code",
        "colab": {
          "base_uri": "https://localhost:8080/",
          "height": 286
        },
        "outputId": "47fc426b-049e-492e-d3ad-f587cb69a994"
      },
      "source": [
        "# Batch gradient descent without lasso\n",
        "LR_GD = LinearRegression()\n",
        "LR_GD.fit(X_T_train, Y_train, verbose=False)\n",
        "\n",
        "print(\"total iterations:\\n\", LR_GD.num_iter)\n",
        "print(\"loss:\\n\", LR_GD.loss)\n",
        "print(\"W:\\n\", LR_GD.W)\n",
        "print(\"b:\\n\", LR_GD.b)"
      ],
      "execution_count": null,
      "outputs": [
        {
          "output_type": "stream",
          "text": [
            "Converge!\n",
            "total iterations:\n",
            " 1577\n",
            "loss:\n",
            " 0.2894945566710327\n",
            "W:\n",
            " [[ 0.58862938]\n",
            " [ 0.07541641]\n",
            " [-0.15128296]\n",
            " [-0.0155782 ]\n",
            " [ 0.46791808]\n",
            " [ 0.48487323]\n",
            " [ 0.18396508]\n",
            " [ 0.34337195]]\n",
            "b:\n",
            " [-0.36156623]\n"
          ],
          "name": "stdout"
        }
      ]
    },
    {
      "cell_type": "code",
      "metadata": {
        "id": "wbLl8PX3ZVzC",
        "colab_type": "code",
        "colab": {
          "base_uri": "https://localhost:8080/",
          "height": 286
        },
        "outputId": "33a52423-f391-4f24-8075-8336af5fdb77"
      },
      "source": [
        "# Batch gradient descent with lasso\n",
        "LR_GD_lasso = LinearRegression()\n",
        "LR_GD_lasso.fit(X_T_train, Y_train, L1_lambda=5e-2, verbose=False)\n",
        "\n",
        "print(\"total iterations:\\n\", LR_GD_lasso.num_iter)\n",
        "print(\"loss:\\n\", LR_GD_lasso.loss)\n",
        "print(\"W:\\n\", LR_GD_lasso.W)\n",
        "print(\"b:\\n\", LR_GD_lasso.b)"
      ],
      "execution_count": null,
      "outputs": [
        {
          "output_type": "stream",
          "text": [
            "Converge!\n",
            "total iterations:\n",
            " 1446\n",
            "loss:\n",
            " 0.3187541551216839\n",
            "W:\n",
            " [[ 5.36012511e-01]\n",
            " [ 7.95484254e-02]\n",
            " [ 1.00817394e-04]\n",
            " [-5.68257073e-04]\n",
            " [-5.02239017e-02]\n",
            " [-8.64787241e-02]\n",
            " [-2.66727609e-04]\n",
            " [ 4.54071764e-04]]\n",
            "b:\n",
            " [0.06862338]\n"
          ],
          "name": "stdout"
        }
      ]
    },
    {
      "cell_type": "code",
      "metadata": {
        "id": "8FTzjm76CfsP",
        "colab_type": "code",
        "colab": {
          "base_uri": "https://localhost:8080/",
          "height": 286
        },
        "outputId": "679130ee-493c-4d4d-e78a-4732d0599d60"
      },
      "source": [
        "# Stochastic gradient descent\n",
        "LR_SGD = LinearRegression()\n",
        "LR_SGD.fit(X_T_train, Y_train, verbose=False)\n",
        "\n",
        "print(\"total iterations:\\n\", LR_SGD.num_iter)\n",
        "print(\"loss:\\n\", LR_SGD.loss)\n",
        "print(\"W:\\n\", LR_SGD.W)\n",
        "print(\"b:\\n\", LR_SGD.b)"
      ],
      "execution_count": null,
      "outputs": [
        {
          "output_type": "stream",
          "text": [
            "Converge!\n",
            "total iterations:\n",
            " 884\n",
            "loss:\n",
            " 0.28330211331669825\n",
            "W:\n",
            " [[ 0.56887387]\n",
            " [ 0.12159139]\n",
            " [ 0.09614109]\n",
            " [-0.13349752]\n",
            " [-0.4193098 ]\n",
            " [-0.59829379]\n",
            " [ 0.01655124]\n",
            " [-0.37231032]]\n",
            "b:\n",
            " [0.40712878]\n"
          ],
          "name": "stdout"
        }
      ]
    },
    {
      "cell_type": "code",
      "metadata": {
        "id": "mHDKAy6rfINS",
        "colab_type": "code",
        "colab": {
          "base_uri": "https://localhost:8080/",
          "height": 286
        },
        "outputId": "a278da2e-74a1-4128-ca82-cb55248688c4"
      },
      "source": [
        "# Stochastic gradient descent with lasso\n",
        "LR_SGD_lasso = LinearRegression()\n",
        "LR_SGD_lasso.fit(X_T_train, Y_train, L1_lambda=5e-2, verbose=False)\n",
        "\n",
        "print(\"total iterations:\\n\", LR_SGD_lasso.num_iter)\n",
        "print(\"loss:\\n\", LR_SGD_lasso.loss)\n",
        "print(\"W:\\n\", LR_SGD_lasso.W)\n",
        "print(\"b:\\n\", LR_SGD_lasso.b)"
      ],
      "execution_count": null,
      "outputs": [
        {
          "output_type": "stream",
          "text": [
            "Converge!\n",
            "total iterations:\n",
            " 1006\n",
            "loss:\n",
            " 0.3162767698362901\n",
            "W:\n",
            " [[ 5.59445475e-01]\n",
            " [ 5.12881087e-02]\n",
            " [-1.90490539e-04]\n",
            " [-4.84635616e-04]\n",
            " [ 3.51092352e-02]\n",
            " [-5.19781814e-04]\n",
            " [ 4.86251785e-02]\n",
            " [-2.54408267e-04]]\n",
            "b:\n",
            " [-0.05148631]\n"
          ],
          "name": "stdout"
        }
      ]
    },
    {
      "cell_type": "code",
      "metadata": {
        "id": "QyLQ4oGn7Z52",
        "colab_type": "code",
        "colab": {
          "base_uri": "https://localhost:8080/",
          "height": 67
        },
        "outputId": "467db978-f8eb-45d5-ecbc-bbc494840ee6"
      },
      "source": [
        "linModel = linear_model.LinearRegression()\n",
        "linModel.fit(X_T_train, Y_train)\n",
        "print(linModel.coef_)\n",
        "print(linModel.intercept_)"
      ],
      "execution_count": null,
      "outputs": [
        {
          "output_type": "stream",
          "text": [
            "[[ 0.58286756  0.1007737  -0.00181493 -0.04630166 -0.12230057 -0.18988455\n",
            "  -0.0203741  -0.01558751]]\n",
            "[0.11687352]\n"
          ],
          "name": "stdout"
        }
      ]
    },
    {
      "cell_type": "markdown",
      "metadata": {
        "id": "f62qTfd5hQxD",
        "colab_type": "text"
      },
      "source": [
        "## Test the model"
      ]
    },
    {
      "cell_type": "code",
      "metadata": {
        "id": "gSqotROI7b2n",
        "colab_type": "code",
        "colab": {
          "base_uri": "https://localhost:8080/",
          "height": 84
        },
        "outputId": "05ad0cd9-e358-495a-8fef-5ee564574380"
      },
      "source": [
        "y_pred_GD = LR_GD.predict(X_T_test)\n",
        "error_GD = np.sum(np.square(y_pred_GD - Y_test)) / len(y_pred_GD)\n",
        "print(f\"The error with batch gradient descent: {error_GD}\")\n",
        "\n",
        "y_pred_GD_lasso = LR_GD_lasso.predict(X_T_test)\n",
        "error_GD_lasso = np.sum(np.square(y_pred_GD_lasso - Y_test)) / len(y_pred_GD_lasso)\n",
        "print(f\"The error with batch gradient descent and lasso regularizatoin: {error_GD_lasso}\")\n",
        "\n",
        "y_pred_SGD = LR_SGD.predict(X_T_test)\n",
        "error_SGD = np.sum(np.square(y_pred_SGD - Y_test)) / len(y_pred_SGD)\n",
        "print(f\"The error with stochastic gradient descent: {error_SGD}\")\n",
        "\n",
        "y_pred_SGD_lasso = LR_SGD_lasso.predict(X_T_test)\n",
        "error_SGD_lasso = np.sum(np.square(y_pred_SGD_lasso - Y_test)) / len(y_pred_SGD_lasso)\n",
        "print(f\"The error with stochastic gradient descent and lasso regularizatoin: {error_SGD_lasso}\")"
      ],
      "execution_count": null,
      "outputs": [
        {
          "output_type": "stream",
          "text": [
            "The error with batch gradient descent: 0.44033829200414604\n",
            "The error with batch gradient descent and lasso regularizatoin: 0.47218454512170427\n",
            "The error with stochastic gradient descent: 0.5015057263794035\n",
            "The error with stochastic gradient descent and lasso regularizatoin: 0.4699734189023897\n"
          ],
          "name": "stdout"
        }
      ]
    },
    {
      "cell_type": "code",
      "metadata": {
        "id": "g9qJcqiW8MFh",
        "colab_type": "code",
        "colab": {
          "base_uri": "https://localhost:8080/",
          "height": 34
        },
        "outputId": "47fc04cf-52a4-4069-ce8b-0c8f51cd91ef"
      },
      "source": [
        "y_pred_skl = linModel.predict(X_T_test)\n",
        "error_skl = np.sum(np.square(y_pred_skl - Y_test)) / len(y_pred_skl)\n",
        "print(f\"The error with sklearn linear regression: {error_skl}\")"
      ],
      "execution_count": null,
      "outputs": [
        {
          "output_type": "stream",
          "text": [
            "The error with sklearn linear regression: 0.4601727799732025\n"
          ],
          "name": "stdout"
        }
      ]
    },
    {
      "cell_type": "markdown",
      "metadata": {
        "id": "UFON81oNfwyU",
        "colab_type": "text"
      },
      "source": [
        "## Conclusion\n",
        "We can see that\n",
        "- Batch gradient descent performs better than SGD, as the theory.\n",
        "- With fine-tuned regularization rate, linear regression with Lasso performs as good as without. This could indicate some features are redundant."
      ]
    }
  ]
}